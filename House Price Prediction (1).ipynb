{
 "cells": [
  {
   "cell_type": "code",
   "execution_count": 1,
   "id": "95e086a1",
   "metadata": {},
   "outputs": [],
   "source": [
    "import pandas as pd\n",
    "import numpy as np\n",
    "from sklearn.linear_model import LinearRegression\n",
    "from sklearn.model_selection import train_test_split\n",
    "import seaborn as sns\n",
    "import matplotlib.pyplot as plt\n",
    "sns.set_style(\"whitegrid\")\n",
    "from sklearn.preprocessing import OneHotEncoder\n",
    "from sklearn.preprocessing import StandardScaler\n",
    "from sklearn.compose import ColumnTransformer\n",
    "from sklearn.pipeline import Pipeline\n",
    "from sklearn.metrics import r2_score\n",
    "from scipy import stats as st\n",
    "from sklearn.model_selection import cross_val_score"
   ]
  },
  {
   "cell_type": "code",
   "execution_count": 2,
   "id": "99f6fe05",
   "metadata": {},
   "outputs": [],
   "source": [
    "url=r\"D:\\cp\\DataSet\\Bengaluru_House_Data.csv\"\n",
    "df=pd.read_csv(url)"
   ]
  },
  {
   "cell_type": "code",
   "execution_count": 3,
   "id": "f2b9f389",
   "metadata": {},
   "outputs": [
    {
     "data": {
      "text/html": [
       "<div>\n",
       "<style scoped>\n",
       "    .dataframe tbody tr th:only-of-type {\n",
       "        vertical-align: middle;\n",
       "    }\n",
       "\n",
       "    .dataframe tbody tr th {\n",
       "        vertical-align: top;\n",
       "    }\n",
       "\n",
       "    .dataframe thead th {\n",
       "        text-align: right;\n",
       "    }\n",
       "</style>\n",
       "<table border=\"1\" class=\"dataframe\">\n",
       "  <thead>\n",
       "    <tr style=\"text-align: right;\">\n",
       "      <th></th>\n",
       "      <th>area_type</th>\n",
       "      <th>availability</th>\n",
       "      <th>location</th>\n",
       "      <th>size</th>\n",
       "      <th>society</th>\n",
       "      <th>total_sqft</th>\n",
       "      <th>bath</th>\n",
       "      <th>balcony</th>\n",
       "      <th>price</th>\n",
       "    </tr>\n",
       "  </thead>\n",
       "  <tbody>\n",
       "    <tr>\n",
       "      <th>7973</th>\n",
       "      <td>Built-up  Area</td>\n",
       "      <td>Ready To Move</td>\n",
       "      <td>Whitefield</td>\n",
       "      <td>2 BHK</td>\n",
       "      <td>NaN</td>\n",
       "      <td>1290</td>\n",
       "      <td>2.0</td>\n",
       "      <td>0.0</td>\n",
       "      <td>90.00</td>\n",
       "    </tr>\n",
       "    <tr>\n",
       "      <th>4907</th>\n",
       "      <td>Built-up  Area</td>\n",
       "      <td>Ready To Move</td>\n",
       "      <td>Outer Ring Road East</td>\n",
       "      <td>2 BHK</td>\n",
       "      <td>Hoens T</td>\n",
       "      <td>1367</td>\n",
       "      <td>2.0</td>\n",
       "      <td>2.0</td>\n",
       "      <td>62.00</td>\n",
       "    </tr>\n",
       "    <tr>\n",
       "      <th>11273</th>\n",
       "      <td>Super built-up  Area</td>\n",
       "      <td>18-Sep</td>\n",
       "      <td>Varthur</td>\n",
       "      <td>2 BHK</td>\n",
       "      <td>Soamsay</td>\n",
       "      <td>1210</td>\n",
       "      <td>2.0</td>\n",
       "      <td>1.0</td>\n",
       "      <td>64.15</td>\n",
       "    </tr>\n",
       "    <tr>\n",
       "      <th>11838</th>\n",
       "      <td>Plot  Area</td>\n",
       "      <td>Ready To Move</td>\n",
       "      <td>Ullal Uppanagar</td>\n",
       "      <td>2 Bedroom</td>\n",
       "      <td>NaN</td>\n",
       "      <td>1200</td>\n",
       "      <td>2.0</td>\n",
       "      <td>0.0</td>\n",
       "      <td>82.00</td>\n",
       "    </tr>\n",
       "    <tr>\n",
       "      <th>4865</th>\n",
       "      <td>Built-up  Area</td>\n",
       "      <td>18-Aug</td>\n",
       "      <td>Electronic City Phase II</td>\n",
       "      <td>3 BHK</td>\n",
       "      <td>Sryalan</td>\n",
       "      <td>1310</td>\n",
       "      <td>2.0</td>\n",
       "      <td>1.0</td>\n",
       "      <td>37.83</td>\n",
       "    </tr>\n",
       "  </tbody>\n",
       "</table>\n",
       "</div>"
      ],
      "text/plain": [
       "                  area_type   availability                  location  \\\n",
       "7973         Built-up  Area  Ready To Move                Whitefield   \n",
       "4907         Built-up  Area  Ready To Move      Outer Ring Road East   \n",
       "11273  Super built-up  Area         18-Sep                   Varthur   \n",
       "11838            Plot  Area  Ready To Move           Ullal Uppanagar   \n",
       "4865         Built-up  Area         18-Aug  Electronic City Phase II   \n",
       "\n",
       "            size  society total_sqft  bath  balcony  price  \n",
       "7973       2 BHK      NaN       1290   2.0      0.0  90.00  \n",
       "4907       2 BHK  Hoens T       1367   2.0      2.0  62.00  \n",
       "11273      2 BHK  Soamsay       1210   2.0      1.0  64.15  \n",
       "11838  2 Bedroom      NaN       1200   2.0      0.0  82.00  \n",
       "4865       3 BHK  Sryalan       1310   2.0      1.0  37.83  "
      ]
     },
     "execution_count": 3,
     "metadata": {},
     "output_type": "execute_result"
    }
   ],
   "source": [
    "df.sample(5)"
   ]
  },
  {
   "cell_type": "markdown",
   "id": "750a3f1c",
   "metadata": {},
   "source": [
    "## EDA"
   ]
  },
  {
   "cell_type": "code",
   "execution_count": 4,
   "id": "a06896e4",
   "metadata": {},
   "outputs": [
    {
     "data": {
      "text/plain": [
       "(13320, 9)"
      ]
     },
     "execution_count": 4,
     "metadata": {},
     "output_type": "execute_result"
    }
   ],
   "source": [
    "df.shape"
   ]
  },
  {
   "cell_type": "code",
   "execution_count": 5,
   "id": "cffbb5dc",
   "metadata": {},
   "outputs": [
    {
     "data": {
      "text/plain": [
       "array(['Super built-up  Area', 'Plot  Area', 'Built-up  Area',\n",
       "       'Carpet  Area'], dtype=object)"
      ]
     },
     "execution_count": 5,
     "metadata": {},
     "output_type": "execute_result"
    }
   ],
   "source": [
    "df['area_type'].unique()"
   ]
  },
  {
   "cell_type": "code",
   "execution_count": 6,
   "id": "b9ee4849",
   "metadata": {},
   "outputs": [
    {
     "data": {
      "text/plain": [
       "0"
      ]
     },
     "execution_count": 6,
     "metadata": {},
     "output_type": "execute_result"
    }
   ],
   "source": [
    "df['area_type'].isnull().sum()"
   ]
  },
  {
   "cell_type": "code",
   "execution_count": null,
   "id": "7257f775",
   "metadata": {},
   "outputs": [],
   "source": []
  },
  {
   "cell_type": "code",
   "execution_count": 7,
   "id": "93118943",
   "metadata": {},
   "outputs": [
    {
     "data": {
      "text/plain": [
       "array(['19-Dec', 'Ready To Move', '18-May', '18-Feb', '18-Nov', '20-Dec',\n",
       "       '17-Oct', '21-Dec', '19-Sep', '20-Sep', '18-Mar', '20-Feb',\n",
       "       '18-Apr', '20-Aug', '18-Oct', '19-Mar', '17-Sep', '18-Dec',\n",
       "       '17-Aug', '19-Apr', '18-Jun', '22-Dec', '22-Jan', '18-Aug',\n",
       "       '19-Jan', '17-Jul', '18-Jul', '21-Jun', '20-May', '19-Aug',\n",
       "       '18-Sep', '17-May', '17-Jun', '21-May', '18-Jan', '20-Mar',\n",
       "       '17-Dec', '16-Mar', '19-Jun', '22-Jun', '19-Jul', '21-Feb',\n",
       "       'Immediate Possession', '19-May', '17-Nov', '20-Oct', '20-Jun',\n",
       "       '19-Feb', '21-Oct', '21-Jan', '17-Mar', '17-Apr', '22-May',\n",
       "       '19-Oct', '21-Jul', '21-Nov', '21-Mar', '16-Dec', '22-Mar',\n",
       "       '20-Jan', '21-Sep', '21-Aug', '14-Nov', '19-Nov', '15-Nov',\n",
       "       '16-Jul', '15-Jun', '17-Feb', '20-Nov', '20-Jul', '16-Sep',\n",
       "       '15-Oct', '15-Dec', '16-Oct', '22-Nov', '15-Aug', '17-Jan',\n",
       "       '16-Nov', '20-Apr', '16-Jan', '14-Jul'], dtype=object)"
      ]
     },
     "execution_count": 7,
     "metadata": {},
     "output_type": "execute_result"
    }
   ],
   "source": [
    "df['availability'].unique()   #seems unnecessary column "
   ]
  },
  {
   "cell_type": "code",
   "execution_count": 8,
   "id": "bcf50ed7",
   "metadata": {},
   "outputs": [],
   "source": [
    "df.drop(columns=['availability'],inplace=True)"
   ]
  },
  {
   "cell_type": "code",
   "execution_count": null,
   "id": "160e9409",
   "metadata": {},
   "outputs": [],
   "source": []
  },
  {
   "cell_type": "code",
   "execution_count": 9,
   "id": "cc2ad90b",
   "metadata": {},
   "outputs": [
    {
     "data": {
      "text/plain": [
       "array(['Electronic City Phase II', 'Chikka Tirupathi', 'Uttarahalli', ...,\n",
       "       '12th cross srinivas nagar banshankari 3rd stage',\n",
       "       'Havanur extension', 'Abshot Layout'], dtype=object)"
      ]
     },
     "execution_count": 9,
     "metadata": {},
     "output_type": "execute_result"
    }
   ],
   "source": [
    "df['location'].unique()"
   ]
  },
  {
   "cell_type": "code",
   "execution_count": 10,
   "id": "0630aea8",
   "metadata": {},
   "outputs": [
    {
     "data": {
      "text/plain": [
       "1"
      ]
     },
     "execution_count": 10,
     "metadata": {},
     "output_type": "execute_result"
    }
   ],
   "source": [
    "df['location'].isnull().sum()  "
   ]
  },
  {
   "cell_type": "code",
   "execution_count": 11,
   "id": "31e2274d",
   "metadata": {},
   "outputs": [],
   "source": [
    "df=df[~df['location'].isna()]  #As there are only one null value its better to remove"
   ]
  },
  {
   "cell_type": "code",
   "execution_count": 12,
   "id": "6ab4b0c3",
   "metadata": {},
   "outputs": [
    {
     "data": {
      "text/plain": [
       "Whitefield                        540\n",
       "Sarjapur  Road                    399\n",
       "Electronic City                   302\n",
       "Kanakpura Road                    273\n",
       "Thanisandra                       234\n",
       "                                 ... \n",
       "Bapuji Layout                       1\n",
       "1st Stage Radha Krishna Layout      1\n",
       "BEML Layout 5th stage               1\n",
       "singapura paradise                  1\n",
       "Abshot Layout                       1\n",
       "Name: location, Length: 1305, dtype: int64"
      ]
     },
     "execution_count": 12,
     "metadata": {},
     "output_type": "execute_result"
    }
   ],
   "source": [
    "df['location'].value_counts()"
   ]
  },
  {
   "cell_type": "code",
   "execution_count": 13,
   "id": "3d2f484a",
   "metadata": {},
   "outputs": [
    {
     "data": {
      "text/plain": [
       "1064"
      ]
     },
     "execution_count": 13,
     "metadata": {},
     "output_type": "execute_result"
    }
   ],
   "source": [
    "(df['location'].value_counts()<=10).sum() #there lots of location with very few houses"
   ]
  },
  {
   "cell_type": "code",
   "execution_count": 14,
   "id": "4006766e",
   "metadata": {},
   "outputs": [
    {
     "data": {
      "text/plain": [
       "location\n",
       " Anekal                 1\n",
       " Banaswadi              1\n",
       " Basavangudi            1\n",
       " Bhoganhalli            1\n",
       " Devarabeesana Halli    6\n",
       "                       ..\n",
       "t.c palya               1\n",
       "tc.palya                4\n",
       "vinayakanagar           1\n",
       "white field,kadugodi    1\n",
       "whitefiled              1\n",
       "Name: location, Length: 1305, dtype: int64"
      ]
     },
     "execution_count": 14,
     "metadata": {},
     "output_type": "execute_result"
    }
   ],
   "source": [
    "location_count=df.groupby('location')['location'].count()\n",
    "location_count"
   ]
  },
  {
   "cell_type": "code",
   "execution_count": 15,
   "id": "326a3a68",
   "metadata": {},
   "outputs": [],
   "source": [
    "location_lessthan_10=location_count[location_count<=10].index"
   ]
  },
  {
   "cell_type": "code",
   "execution_count": 16,
   "id": "9c45cd8e",
   "metadata": {},
   "outputs": [
    {
     "data": {
      "text/plain": [
       "Index([' Anekal', ' Banaswadi', ' Basavangudi', ' Bhoganhalli',\n",
       "       ' Devarabeesana Halli', ' Electronic City', ' Mysore Highway',\n",
       "       ' Rachenahalli', ' Sector 1 HSR Layout', ' Thanisandra',\n",
       "       ...\n",
       "       'rr nagar', 'sankeswari', 'sapthagiri Layout', 'sarjapura main road',\n",
       "       'singapura paradise', 't.c palya', 'tc.palya', 'vinayakanagar',\n",
       "       'white field,kadugodi', 'whitefiled'],\n",
       "      dtype='object', name='location', length=1064)"
      ]
     },
     "execution_count": 16,
     "metadata": {},
     "output_type": "execute_result"
    }
   ],
   "source": [
    "location_lessthan_10"
   ]
  },
  {
   "cell_type": "code",
   "execution_count": 17,
   "id": "360f989c",
   "metadata": {},
   "outputs": [],
   "source": [
    "df['location']=df['location'].apply(lambda x: 'other' if x in location_lessthan_10 else x)"
   ]
  },
  {
   "cell_type": "code",
   "execution_count": null,
   "id": "c5647ef5",
   "metadata": {},
   "outputs": [],
   "source": []
  },
  {
   "cell_type": "code",
   "execution_count": null,
   "id": "15be0bb6",
   "metadata": {},
   "outputs": [],
   "source": []
  },
  {
   "cell_type": "code",
   "execution_count": 18,
   "id": "73e9040a",
   "metadata": {},
   "outputs": [
    {
     "data": {
      "text/plain": [
       "0            2 BHK\n",
       "1        4 Bedroom\n",
       "2            3 BHK\n",
       "3            3 BHK\n",
       "4            2 BHK\n",
       "           ...    \n",
       "13315    5 Bedroom\n",
       "13316        4 BHK\n",
       "13317        2 BHK\n",
       "13318        4 BHK\n",
       "13319        1 BHK\n",
       "Name: size, Length: 13319, dtype: object"
      ]
     },
     "execution_count": 18,
     "metadata": {},
     "output_type": "execute_result"
    }
   ],
   "source": [
    "df['size']     #Its better to keep only numeric value"
   ]
  },
  {
   "cell_type": "code",
   "execution_count": 19,
   "id": "e1d2801e",
   "metadata": {},
   "outputs": [
    {
     "data": {
      "text/plain": [
       "16"
      ]
     },
     "execution_count": 19,
     "metadata": {},
     "output_type": "execute_result"
    }
   ],
   "source": [
    "df['size'].isna().sum()   "
   ]
  },
  {
   "cell_type": "code",
   "execution_count": 20,
   "id": "ec827df4",
   "metadata": {},
   "outputs": [],
   "source": [
    "df=df[~df['size'].isna()]  #As the number of null value is very less its better to remove"
   ]
  },
  {
   "cell_type": "code",
   "execution_count": 21,
   "id": "8020e504",
   "metadata": {},
   "outputs": [
    {
     "data": {
      "text/plain": [
       "array(['2 BHK', '4 Bedroom', '3 BHK', '4 BHK', '6 Bedroom', '3 Bedroom',\n",
       "       '1 BHK', '1 RK', '1 Bedroom', '8 Bedroom', '2 Bedroom',\n",
       "       '7 Bedroom', '5 BHK', '7 BHK', '6 BHK', '5 Bedroom', '11 BHK',\n",
       "       '9 BHK', '9 Bedroom', '27 BHK', '10 Bedroom', '11 Bedroom',\n",
       "       '10 BHK', '19 BHK', '16 BHK', '43 Bedroom', '14 BHK', '8 BHK',\n",
       "       '12 Bedroom', '13 BHK', '18 Bedroom'], dtype=object)"
      ]
     },
     "execution_count": 21,
     "metadata": {},
     "output_type": "execute_result"
    }
   ],
   "source": [
    "df['size'].unique()"
   ]
  },
  {
   "cell_type": "code",
   "execution_count": 22,
   "id": "7ed2f1b9",
   "metadata": {},
   "outputs": [],
   "source": [
    "df['size']=df['size'].apply(lambda x: x.split(' ')[0])"
   ]
  },
  {
   "cell_type": "code",
   "execution_count": 23,
   "id": "fb8a23aa",
   "metadata": {},
   "outputs": [],
   "source": [
    "df['size']=df['size'].astype('int')"
   ]
  },
  {
   "cell_type": "code",
   "execution_count": null,
   "id": "6614fbf3",
   "metadata": {},
   "outputs": [],
   "source": []
  },
  {
   "cell_type": "code",
   "execution_count": 24,
   "id": "c85c2006",
   "metadata": {},
   "outputs": [
    {
     "data": {
      "text/plain": [
       "0        Coomee \n",
       "1        Theanmp\n",
       "2            NaN\n",
       "3        Soiewre\n",
       "4            NaN\n",
       "          ...   \n",
       "13315    ArsiaEx\n",
       "13316        NaN\n",
       "13317    Mahla T\n",
       "13318    SollyCl\n",
       "13319        NaN\n",
       "Name: society, Length: 13303, dtype: object"
      ]
     },
     "execution_count": 24,
     "metadata": {},
     "output_type": "execute_result"
    }
   ],
   "source": [
    "df['society']"
   ]
  },
  {
   "cell_type": "code",
   "execution_count": 25,
   "id": "fd9cd2aa",
   "metadata": {},
   "outputs": [
    {
     "data": {
      "text/plain": [
       "5499"
      ]
     },
     "execution_count": 25,
     "metadata": {},
     "output_type": "execute_result"
    }
   ],
   "source": [
    "df['society'].isna().sum()   #almost 50% values are null in this column"
   ]
  },
  {
   "cell_type": "code",
   "execution_count": 26,
   "id": "a79725e3",
   "metadata": {},
   "outputs": [],
   "source": [
    "df.drop(columns=['society'],inplace=True)"
   ]
  },
  {
   "cell_type": "code",
   "execution_count": null,
   "id": "9cde4ed4",
   "metadata": {},
   "outputs": [],
   "source": []
  },
  {
   "cell_type": "code",
   "execution_count": 27,
   "id": "76f723b1",
   "metadata": {},
   "outputs": [
    {
     "data": {
      "text/plain": [
       "1826     1115\n",
       "11121    1200\n",
       "3608      596\n",
       "1587     1378\n",
       "2804     1200\n",
       "11429    1226\n",
       "9238     1169\n",
       "9947      770\n",
       "1084     1600\n",
       "12217    1276\n",
       "4952     1847\n",
       "6196     1060\n",
       "6660     1186\n",
       "10364    1847\n",
       "8448     1130\n",
       "11497    1500\n",
       "3640     1327\n",
       "3474     1231\n",
       "1343      890\n",
       "8199     1424\n",
       "Name: total_sqft, dtype: object"
      ]
     },
     "execution_count": 27,
     "metadata": {},
     "output_type": "execute_result"
    }
   ],
   "source": [
    "df['total_sqft'].sample(20)   #run this cell 5 6 time to see pattern in data"
   ]
  },
  {
   "cell_type": "code",
   "execution_count": 28,
   "id": "d070a46c",
   "metadata": {},
   "outputs": [],
   "source": [
    "#  188.89Sq. Yards ,697Sq. Meter,1248.52,2466 - 2856 these type of data are also there in this column"
   ]
  },
  {
   "cell_type": "code",
   "execution_count": 29,
   "id": "694dc247",
   "metadata": {},
   "outputs": [],
   "source": [
    "def clean_total_sqft(x):\n",
    "    \n",
    "    try:\n",
    "        return float(x)\n",
    "    except:\n",
    "        pass\n",
    "    \n",
    "    try:\n",
    "        return (float(x.split(' - ')[0])+float(x.split(' - ')[1]))//2;\n",
    "    except:\n",
    "        pass\n",
    "    \n",
    "    try:\n",
    "        return float(x.split('Sq')[0])\n",
    "    except:\n",
    "        pass\n",
    "    \n",
    "    return np.nan\n",
    "    \n",
    "    \n",
    "    "
   ]
  },
  {
   "cell_type": "code",
   "execution_count": 30,
   "id": "1eb8aef4",
   "metadata": {},
   "outputs": [],
   "source": [
    "df['total_sqft']=df['total_sqft'].apply(clean_total_sqft)"
   ]
  },
  {
   "cell_type": "code",
   "execution_count": 31,
   "id": "9e1788d7",
   "metadata": {},
   "outputs": [
    {
     "data": {
      "text/plain": [
       "14"
      ]
     },
     "execution_count": 31,
     "metadata": {},
     "output_type": "execute_result"
    }
   ],
   "source": [
    "df['total_sqft'].isna().sum()"
   ]
  },
  {
   "cell_type": "code",
   "execution_count": 32,
   "id": "715390eb",
   "metadata": {},
   "outputs": [],
   "source": [
    "df=df[~df['total_sqft'].isna()]"
   ]
  },
  {
   "cell_type": "code",
   "execution_count": 33,
   "id": "8efbffee",
   "metadata": {},
   "outputs": [],
   "source": [
    "df['total_sqft']=df['total_sqft'].astype(int)"
   ]
  },
  {
   "cell_type": "code",
   "execution_count": null,
   "id": "46ab126f",
   "metadata": {},
   "outputs": [],
   "source": []
  },
  {
   "cell_type": "code",
   "execution_count": 34,
   "id": "e7b16781",
   "metadata": {},
   "outputs": [
    {
     "data": {
      "text/plain": [
       "57"
      ]
     },
     "execution_count": 34,
     "metadata": {},
     "output_type": "execute_result"
    }
   ],
   "source": [
    "df['bath'].isna().sum()"
   ]
  },
  {
   "cell_type": "code",
   "execution_count": 35,
   "id": "02f1487c",
   "metadata": {},
   "outputs": [],
   "source": [
    "df=df[~df.bath.isna()]"
   ]
  },
  {
   "cell_type": "code",
   "execution_count": 36,
   "id": "9e1e073d",
   "metadata": {},
   "outputs": [],
   "source": [
    "df.bath=df.bath.astype(int)"
   ]
  },
  {
   "cell_type": "code",
   "execution_count": null,
   "id": "545a9676",
   "metadata": {},
   "outputs": [],
   "source": []
  },
  {
   "cell_type": "code",
   "execution_count": 37,
   "id": "21ef945b",
   "metadata": {},
   "outputs": [
    {
     "data": {
      "text/plain": [
       "535"
      ]
     },
     "execution_count": 37,
     "metadata": {},
     "output_type": "execute_result"
    }
   ],
   "source": [
    "df['balcony'].isna().sum()  #number of null value is almost 5%"
   ]
  },
  {
   "cell_type": "code",
   "execution_count": 38,
   "id": "314a0068",
   "metadata": {},
   "outputs": [
    {
     "data": {
      "text/plain": [
       "array([ 1.,  3., nan,  2.,  0.])"
      ]
     },
     "execution_count": 38,
     "metadata": {},
     "output_type": "execute_result"
    }
   ],
   "source": [
    "df['balcony'].unique()"
   ]
  },
  {
   "cell_type": "code",
   "execution_count": 39,
   "id": "b12d415b",
   "metadata": {},
   "outputs": [
    {
     "data": {
      "text/plain": [
       "array([1, 3, 2, 0])"
      ]
     },
     "execution_count": 39,
     "metadata": {},
     "output_type": "execute_result"
    }
   ],
   "source": [
    "non_na_balcony=df[~df['balcony'].isna()]['balcony'].astype(int)\n",
    "non_na_balcony.unique()"
   ]
  },
  {
   "cell_type": "code",
   "execution_count": 40,
   "id": "7520efef",
   "metadata": {},
   "outputs": [
    {
     "name": "stderr",
     "output_type": "stream",
     "text": [
      "C:\\Users\\91993\\AppData\\Local\\Programs\\Python\\Python39\\lib\\site-packages\\seaborn\\_decorators.py:36: FutureWarning: Pass the following variable as a keyword arg: x. From version 0.12, the only valid positional argument will be `data`, and passing other arguments without an explicit keyword will result in an error or misinterpretation.\n",
      "  warnings.warn(\n"
     ]
    },
    {
     "data": {
      "text/plain": [
       "<AxesSubplot:xlabel='balcony', ylabel='count'>"
      ]
     },
     "execution_count": 40,
     "metadata": {},
     "output_type": "execute_result"
    },
    {
     "data": {
      "image/png": "[encoded data removed]",
      "text/plain": [
       "<Figure size 432x288 with 1 Axes>"
      ]
     },
     "metadata": {
      "needs_background": "light"
     },
     "output_type": "display_data"
    }
   ],
   "source": [
    "sns.countplot(non_na_balcony)"
   ]
  },
  {
   "cell_type": "code",
   "execution_count": 41,
   "id": "a1d369ae",
   "metadata": {},
   "outputs": [],
   "source": [
    "df['balcony'].fillna(2,inplace=True)"
   ]
  },
  {
   "cell_type": "code",
   "execution_count": null,
   "id": "8b44a08a",
   "metadata": {},
   "outputs": [],
   "source": []
  },
  {
   "cell_type": "code",
   "execution_count": null,
   "id": "558010a6",
   "metadata": {},
   "outputs": [],
   "source": []
  },
  {
   "cell_type": "code",
   "execution_count": 42,
   "id": "8570a331",
   "metadata": {},
   "outputs": [
    {
     "data": {
      "text/plain": [
       "area_type     0\n",
       "location      0\n",
       "size          0\n",
       "total_sqft    0\n",
       "bath          0\n",
       "balcony       0\n",
       "price         0\n",
       "dtype: int64"
      ]
     },
     "execution_count": 42,
     "metadata": {},
     "output_type": "execute_result"
    }
   ],
   "source": [
    "df.isna().sum()"
   ]
  },
  {
   "cell_type": "code",
   "execution_count": 43,
   "id": "6f04e9f7",
   "metadata": {},
   "outputs": [
    {
     "data": {
      "text/plain": [
       "(13232, 7)"
      ]
     },
     "execution_count": 43,
     "metadata": {},
     "output_type": "execute_result"
    }
   ],
   "source": [
    "df.shape"
   ]
  },
  {
   "cell_type": "code",
   "execution_count": 44,
   "id": "fd50f9e2",
   "metadata": {},
   "outputs": [
    {
     "data": {
      "text/html": [
       "<div>\n",
       "<style scoped>\n",
       "    .dataframe tbody tr th:only-of-type {\n",
       "        vertical-align: middle;\n",
       "    }\n",
       "\n",
       "    .dataframe tbody tr th {\n",
       "        vertical-align: top;\n",
       "    }\n",
       "\n",
       "    .dataframe thead th {\n",
       "        text-align: right;\n",
       "    }\n",
       "</style>\n",
       "<table border=\"1\" class=\"dataframe\">\n",
       "  <thead>\n",
       "    <tr style=\"text-align: right;\">\n",
       "      <th></th>\n",
       "      <th>area_type</th>\n",
       "      <th>location</th>\n",
       "      <th>size</th>\n",
       "      <th>total_sqft</th>\n",
       "      <th>bath</th>\n",
       "      <th>balcony</th>\n",
       "      <th>price</th>\n",
       "    </tr>\n",
       "  </thead>\n",
       "  <tbody>\n",
       "    <tr>\n",
       "      <th>0</th>\n",
       "      <td>Super built-up  Area</td>\n",
       "      <td>Electronic City Phase II</td>\n",
       "      <td>2</td>\n",
       "      <td>1056</td>\n",
       "      <td>2</td>\n",
       "      <td>1.0</td>\n",
       "      <td>39.07</td>\n",
       "    </tr>\n",
       "    <tr>\n",
       "      <th>1</th>\n",
       "      <td>Plot  Area</td>\n",
       "      <td>Chikka Tirupathi</td>\n",
       "      <td>4</td>\n",
       "      <td>2600</td>\n",
       "      <td>5</td>\n",
       "      <td>3.0</td>\n",
       "      <td>120.00</td>\n",
       "    </tr>\n",
       "    <tr>\n",
       "      <th>2</th>\n",
       "      <td>Built-up  Area</td>\n",
       "      <td>Uttarahalli</td>\n",
       "      <td>3</td>\n",
       "      <td>1440</td>\n",
       "      <td>2</td>\n",
       "      <td>3.0</td>\n",
       "      <td>62.00</td>\n",
       "    </tr>\n",
       "    <tr>\n",
       "      <th>3</th>\n",
       "      <td>Super built-up  Area</td>\n",
       "      <td>Lingadheeranahalli</td>\n",
       "      <td>3</td>\n",
       "      <td>1521</td>\n",
       "      <td>3</td>\n",
       "      <td>1.0</td>\n",
       "      <td>95.00</td>\n",
       "    </tr>\n",
       "    <tr>\n",
       "      <th>4</th>\n",
       "      <td>Super built-up  Area</td>\n",
       "      <td>Kothanur</td>\n",
       "      <td>2</td>\n",
       "      <td>1200</td>\n",
       "      <td>2</td>\n",
       "      <td>1.0</td>\n",
       "      <td>51.00</td>\n",
       "    </tr>\n",
       "    <tr>\n",
       "      <th>...</th>\n",
       "      <td>...</td>\n",
       "      <td>...</td>\n",
       "      <td>...</td>\n",
       "      <td>...</td>\n",
       "      <td>...</td>\n",
       "      <td>...</td>\n",
       "      <td>...</td>\n",
       "    </tr>\n",
       "    <tr>\n",
       "      <th>13315</th>\n",
       "      <td>Built-up  Area</td>\n",
       "      <td>Whitefield</td>\n",
       "      <td>5</td>\n",
       "      <td>3453</td>\n",
       "      <td>4</td>\n",
       "      <td>0.0</td>\n",
       "      <td>231.00</td>\n",
       "    </tr>\n",
       "    <tr>\n",
       "      <th>13316</th>\n",
       "      <td>Super built-up  Area</td>\n",
       "      <td>other</td>\n",
       "      <td>4</td>\n",
       "      <td>3600</td>\n",
       "      <td>5</td>\n",
       "      <td>2.0</td>\n",
       "      <td>400.00</td>\n",
       "    </tr>\n",
       "    <tr>\n",
       "      <th>13317</th>\n",
       "      <td>Built-up  Area</td>\n",
       "      <td>Raja Rajeshwari Nagar</td>\n",
       "      <td>2</td>\n",
       "      <td>1141</td>\n",
       "      <td>2</td>\n",
       "      <td>1.0</td>\n",
       "      <td>60.00</td>\n",
       "    </tr>\n",
       "    <tr>\n",
       "      <th>13318</th>\n",
       "      <td>Super built-up  Area</td>\n",
       "      <td>Padmanabhanagar</td>\n",
       "      <td>4</td>\n",
       "      <td>4689</td>\n",
       "      <td>4</td>\n",
       "      <td>1.0</td>\n",
       "      <td>488.00</td>\n",
       "    </tr>\n",
       "    <tr>\n",
       "      <th>13319</th>\n",
       "      <td>Super built-up  Area</td>\n",
       "      <td>Doddathoguru</td>\n",
       "      <td>1</td>\n",
       "      <td>550</td>\n",
       "      <td>1</td>\n",
       "      <td>1.0</td>\n",
       "      <td>17.00</td>\n",
       "    </tr>\n",
       "  </tbody>\n",
       "</table>\n",
       "<p>13232 rows × 7 columns</p>\n",
       "</div>"
      ],
      "text/plain": [
       "                  area_type                  location  size  total_sqft  bath  \\\n",
       "0      Super built-up  Area  Electronic City Phase II     2        1056     2   \n",
       "1                Plot  Area          Chikka Tirupathi     4        2600     5   \n",
       "2            Built-up  Area               Uttarahalli     3        1440     2   \n",
       "3      Super built-up  Area        Lingadheeranahalli     3        1521     3   \n",
       "4      Super built-up  Area                  Kothanur     2        1200     2   \n",
       "...                     ...                       ...   ...         ...   ...   \n",
       "13315        Built-up  Area                Whitefield     5        3453     4   \n",
       "13316  Super built-up  Area                     other     4        3600     5   \n",
       "13317        Built-up  Area     Raja Rajeshwari Nagar     2        1141     2   \n",
       "13318  Super built-up  Area           Padmanabhanagar     4        4689     4   \n",
       "13319  Super built-up  Area              Doddathoguru     1         550     1   \n",
       "\n",
       "       balcony   price  \n",
       "0          1.0   39.07  \n",
       "1          3.0  120.00  \n",
       "2          3.0   62.00  \n",
       "3          1.0   95.00  \n",
       "4          1.0   51.00  \n",
       "...        ...     ...  \n",
       "13315      0.0  231.00  \n",
       "13316      2.0  400.00  \n",
       "13317      1.0   60.00  \n",
       "13318      1.0  488.00  \n",
       "13319      1.0   17.00  \n",
       "\n",
       "[13232 rows x 7 columns]"
      ]
     },
     "execution_count": 44,
     "metadata": {},
     "output_type": "execute_result"
    }
   ],
   "source": [
    "df"
   ]
  },
  {
   "cell_type": "code",
   "execution_count": 45,
   "id": "ae240eb6",
   "metadata": {},
   "outputs": [
    {
     "data": {
      "text/plain": [
       "<AxesSubplot:xlabel='area_type', ylabel='price'>"
      ]
     },
     "execution_count": 45,
     "metadata": {},
     "output_type": "execute_result"
    },
    {
     "data": {
      "image/png": "[encoded data removed]",
      "text/plain": [
       "<Figure size 720x504 with 1 Axes>"
      ]
     },
     "metadata": {
      "needs_background": "light"
     },
     "output_type": "display_data"
    }
   ],
   "source": [
    "plt.figure(figsize=(10, 7))\n",
    "sns.boxplot(x='area_type',y='price',data=df)"
   ]
  },
  {
   "cell_type": "code",
   "execution_count": null,
   "id": "cc570732",
   "metadata": {},
   "outputs": [],
   "source": []
  },
  {
   "cell_type": "markdown",
   "id": "66cf8dbc",
   "metadata": {},
   "source": [
    "### Univariate Analysis on area_type"
   ]
  },
  {
   "cell_type": "code",
   "execution_count": 46,
   "id": "c92bb61b",
   "metadata": {},
   "outputs": [
    {
     "data": {
      "text/plain": [
       "<AxesSubplot:xlabel='area_type', ylabel='price'>"
      ]
     },
     "execution_count": 46,
     "metadata": {},
     "output_type": "execute_result"
    },
    {
     "data": {
      "image/png": "[encoded data removed]",
      "text/plain": [
       "<Figure size 720x504 with 1 Axes>"
      ]
     },
     "metadata": {
      "needs_background": "light"
     },
     "output_type": "display_data"
    }
   ],
   "source": [
    "plt.figure(figsize=(10, 7))\n",
    "sns.stripplot(x='area_type',y='price',data=df)"
   ]
  },
  {
   "cell_type": "code",
   "execution_count": 47,
   "id": "4fb84be9",
   "metadata": {},
   "outputs": [
    {
     "data": {
      "text/plain": [
       "<AxesSubplot:xlabel='area_type', ylabel='price'>"
      ]
     },
     "execution_count": 47,
     "metadata": {},
     "output_type": "execute_result"
    },
    {
     "data": {
      "image/png": "[encoded data removed]",
      "text/plain": [
       "<Figure size 720x504 with 1 Axes>"
      ]
     },
     "metadata": {
      "needs_background": "light"
     },
     "output_type": "display_data"
    }
   ],
   "source": [
    "plt.figure(figsize=(10, 7))\n",
    "sns.violinplot(x='area_type',y='price',data=df)"
   ]
  },
  {
   "cell_type": "code",
   "execution_count": 48,
   "id": "e5af0224",
   "metadata": {},
   "outputs": [],
   "source": [
    "df.drop(columns=['area_type'],inplace=True)"
   ]
  },
  {
   "cell_type": "code",
   "execution_count": null,
   "id": "7391ad95",
   "metadata": {},
   "outputs": [],
   "source": []
  },
  {
   "cell_type": "markdown",
   "id": "6638856f",
   "metadata": {},
   "source": [
    "### Univariate Analysis on size"
   ]
  },
  {
   "cell_type": "code",
   "execution_count": 49,
   "id": "a13bd9c7",
   "metadata": {},
   "outputs": [
    {
     "data": {
      "text/plain": [
       "<AxesSubplot:xlabel='size', ylabel='count'>"
      ]
     },
     "execution_count": 49,
     "metadata": {},
     "output_type": "execute_result"
    },
    {
     "data": {
      "image/png": "[encoded data removed]",
      "text/plain": [
       "<Figure size 432x288 with 1 Axes>"
      ]
     },
     "metadata": {
      "needs_background": "light"
     },
     "output_type": "display_data"
    }
   ],
   "source": [
    "sns.countplot(x=df['size'])"
   ]
  },
  {
   "cell_type": "code",
   "execution_count": 50,
   "id": "c7babca3",
   "metadata": {},
   "outputs": [
    {
     "data": {
      "text/plain": [
       "<AxesSubplot:xlabel='size'>"
      ]
     },
     "execution_count": 50,
     "metadata": {},
     "output_type": "execute_result"
    },
    {
     "data": {
      "image/png": "[encoded data removed]",
      "text/plain": [
       "<Figure size 432x288 with 1 Axes>"
      ]
     },
     "metadata": {
      "needs_background": "light"
     },
     "output_type": "display_data"
    }
   ],
   "source": [
    "sns.boxplot(x=df['size'])"
   ]
  },
  {
   "cell_type": "code",
   "execution_count": 51,
   "id": "8738b686",
   "metadata": {},
   "outputs": [],
   "source": [
    "p25=np.percentile(df['size'],25)\n",
    "p75=np.percentile(df['size'],75)\n",
    "IQR=p75-p25"
   ]
  },
  {
   "cell_type": "code",
   "execution_count": 52,
   "id": "d013fa15",
   "metadata": {},
   "outputs": [],
   "source": [
    "mx_size=p75+1.5*IQR\n",
    "mn_size=p25-1.5*IQR"
   ]
  },
  {
   "cell_type": "code",
   "execution_count": 53,
   "id": "88a3f408",
   "metadata": {},
   "outputs": [
    {
     "data": {
      "text/plain": [
       "4.5"
      ]
     },
     "execution_count": 53,
     "metadata": {},
     "output_type": "execute_result"
    }
   ],
   "source": [
    "mx_size"
   ]
  },
  {
   "cell_type": "code",
   "execution_count": 54,
   "id": "6c565956",
   "metadata": {},
   "outputs": [],
   "source": [
    "df=df[df['size']<=5]   #Trimming Outlier"
   ]
  },
  {
   "cell_type": "code",
   "execution_count": 55,
   "id": "6127cb4b",
   "metadata": {},
   "outputs": [
    {
     "data": {
      "text/plain": [
       "(12745, 6)"
      ]
     },
     "execution_count": 55,
     "metadata": {},
     "output_type": "execute_result"
    }
   ],
   "source": [
    "df.shape"
   ]
  },
  {
   "cell_type": "code",
   "execution_count": null,
   "id": "bce0bf3a",
   "metadata": {},
   "outputs": [],
   "source": []
  },
  {
   "cell_type": "markdown",
   "id": "4788c164",
   "metadata": {},
   "source": [
    "### Univariate Analysis on total_sqft"
   ]
  },
  {
   "cell_type": "code",
   "execution_count": 56,
   "id": "9898841a",
   "metadata": {},
   "outputs": [
    {
     "data": {
      "text/html": [
       "<div>\n",
       "<style scoped>\n",
       "    .dataframe tbody tr th:only-of-type {\n",
       "        vertical-align: middle;\n",
       "    }\n",
       "\n",
       "    .dataframe tbody tr th {\n",
       "        vertical-align: top;\n",
       "    }\n",
       "\n",
       "    .dataframe thead th {\n",
       "        text-align: right;\n",
       "    }\n",
       "</style>\n",
       "<table border=\"1\" class=\"dataframe\">\n",
       "  <thead>\n",
       "    <tr style=\"text-align: right;\">\n",
       "      <th></th>\n",
       "      <th>location</th>\n",
       "      <th>size</th>\n",
       "      <th>total_sqft</th>\n",
       "      <th>bath</th>\n",
       "      <th>balcony</th>\n",
       "      <th>price</th>\n",
       "    </tr>\n",
       "  </thead>\n",
       "  <tbody>\n",
       "    <tr>\n",
       "      <th>0</th>\n",
       "      <td>Electronic City Phase II</td>\n",
       "      <td>2</td>\n",
       "      <td>1056</td>\n",
       "      <td>2</td>\n",
       "      <td>1.0</td>\n",
       "      <td>39.07</td>\n",
       "    </tr>\n",
       "    <tr>\n",
       "      <th>1</th>\n",
       "      <td>Chikka Tirupathi</td>\n",
       "      <td>4</td>\n",
       "      <td>2600</td>\n",
       "      <td>5</td>\n",
       "      <td>3.0</td>\n",
       "      <td>120.00</td>\n",
       "    </tr>\n",
       "    <tr>\n",
       "      <th>2</th>\n",
       "      <td>Uttarahalli</td>\n",
       "      <td>3</td>\n",
       "      <td>1440</td>\n",
       "      <td>2</td>\n",
       "      <td>3.0</td>\n",
       "      <td>62.00</td>\n",
       "    </tr>\n",
       "    <tr>\n",
       "      <th>3</th>\n",
       "      <td>Lingadheeranahalli</td>\n",
       "      <td>3</td>\n",
       "      <td>1521</td>\n",
       "      <td>3</td>\n",
       "      <td>1.0</td>\n",
       "      <td>95.00</td>\n",
       "    </tr>\n",
       "    <tr>\n",
       "      <th>4</th>\n",
       "      <td>Kothanur</td>\n",
       "      <td>2</td>\n",
       "      <td>1200</td>\n",
       "      <td>2</td>\n",
       "      <td>1.0</td>\n",
       "      <td>51.00</td>\n",
       "    </tr>\n",
       "  </tbody>\n",
       "</table>\n",
       "</div>"
      ],
      "text/plain": [
       "                   location  size  total_sqft  bath  balcony   price\n",
       "0  Electronic City Phase II     2        1056     2      1.0   39.07\n",
       "1          Chikka Tirupathi     4        2600     5      3.0  120.00\n",
       "2               Uttarahalli     3        1440     2      3.0   62.00\n",
       "3        Lingadheeranahalli     3        1521     3      1.0   95.00\n",
       "4                  Kothanur     2        1200     2      1.0   51.00"
      ]
     },
     "execution_count": 56,
     "metadata": {},
     "output_type": "execute_result"
    }
   ],
   "source": [
    "df.head()"
   ]
  },
  {
   "cell_type": "code",
   "execution_count": 57,
   "id": "d7572f44",
   "metadata": {},
   "outputs": [
    {
     "data": {
      "text/plain": [
       "<AxesSubplot:xlabel='total_sqft', ylabel='Density'>"
      ]
     },
     "execution_count": 57,
     "metadata": {},
     "output_type": "execute_result"
    },
    {
     "data": {
      "image/png": "[encoded data removed]",
      "text/plain": [
       "<Figure size 720x504 with 1 Axes>"
      ]
     },
     "metadata": {
      "needs_background": "light"
     },
     "output_type": "display_data"
    }
   ],
   "source": [
    "plt.figure(figsize=(10, 7))\n",
    "sns.histplot(df['total_sqft'],kde=True,stat='density')   #Distribution is Right Skewed"
   ]
  },
  {
   "cell_type": "code",
   "execution_count": 58,
   "id": "34263f64",
   "metadata": {},
   "outputs": [
    {
     "data": {
      "text/plain": [
       "<AxesSubplot:xlabel='total_sqft'>"
      ]
     },
     "execution_count": 58,
     "metadata": {},
     "output_type": "execute_result"
    },
    {
     "data": {
      "image/png": "[encoded data removed]",
      "text/plain": [
       "<Figure size 432x288 with 1 Axes>"
      ]
     },
     "metadata": {
      "needs_background": "light"
     },
     "output_type": "display_data"
    }
   ],
   "source": [
    "sns.boxplot(x=df['total_sqft'])"
   ]
  },
  {
   "cell_type": "code",
   "execution_count": 59,
   "id": "47e6387c",
   "metadata": {},
   "outputs": [],
   "source": [
    "p25=np.percentile(df['total_sqft'],25)\n",
    "p75=np.percentile(df['total_sqft'],75)\n",
    "IQR=p75-p25"
   ]
  },
  {
   "cell_type": "code",
   "execution_count": 60,
   "id": "9d7a78c8",
   "metadata": {},
   "outputs": [],
   "source": [
    "mn_sqft=p25-1.5*IQR\n",
    "mx_sqft=p75+1.5*IQR"
   ]
  },
  {
   "cell_type": "code",
   "execution_count": 61,
   "id": "242fa728",
   "metadata": {},
   "outputs": [
    {
     "data": {
      "text/plain": [
       "(273.5, 2477.5)"
      ]
     },
     "execution_count": 61,
     "metadata": {},
     "output_type": "execute_result"
    }
   ],
   "source": [
    "mn_sqft,mx_sqft"
   ]
  },
  {
   "cell_type": "code",
   "execution_count": 62,
   "id": "0a38c0ae",
   "metadata": {},
   "outputs": [
    {
     "data": {
      "text/plain": [
       "(26, 6)"
      ]
     },
     "execution_count": 62,
     "metadata": {},
     "output_type": "execute_result"
    }
   ],
   "source": [
    "df[df['total_sqft']<mn_sqft].shape"
   ]
  },
  {
   "cell_type": "code",
   "execution_count": 63,
   "id": "c50e4375",
   "metadata": {},
   "outputs": [],
   "source": [
    "df=df[df['total_sqft']>=mn_sqft]"
   ]
  },
  {
   "cell_type": "code",
   "execution_count": 64,
   "id": "46ee2473",
   "metadata": {},
   "outputs": [
    {
     "data": {
      "text/plain": [
       "(1109, 6)"
      ]
     },
     "execution_count": 64,
     "metadata": {},
     "output_type": "execute_result"
    }
   ],
   "source": [
    "df[df['total_sqft']>mx_sqft].shape  #we cant simply remove 10% row ,so its better to cap rather than trim"
   ]
  },
  {
   "cell_type": "code",
   "execution_count": 65,
   "id": "84f56935",
   "metadata": {},
   "outputs": [],
   "source": [
    "df.loc[df['total_sqft']>mx_sqft,'total_sqft']=mx_sqft"
   ]
  },
  {
   "cell_type": "markdown",
   "id": "efd5c767",
   "metadata": {},
   "source": [
    "### Univariate Analysis on bath"
   ]
  },
  {
   "cell_type": "code",
   "execution_count": 66,
   "id": "65a7df95",
   "metadata": {},
   "outputs": [
    {
     "data": {
      "text/plain": [
       "<AxesSubplot:xlabel='bath', ylabel='count'>"
      ]
     },
     "execution_count": 66,
     "metadata": {},
     "output_type": "execute_result"
    },
    {
     "data": {
      "image/png": "[encoded data removed]",
      "text/plain": [
       "<Figure size 432x288 with 1 Axes>"
      ]
     },
     "metadata": {
      "needs_background": "light"
     },
     "output_type": "display_data"
    }
   ],
   "source": [
    "sns.countplot(x=df['bath'])"
   ]
  },
  {
   "cell_type": "code",
   "execution_count": 67,
   "id": "2d75d319",
   "metadata": {},
   "outputs": [
    {
     "data": {
      "text/plain": [
       "<AxesSubplot:xlabel='bath'>"
      ]
     },
     "execution_count": 67,
     "metadata": {},
     "output_type": "execute_result"
    },
    {
     "data": {
      "image/png": "[encoded data removed]",
      "text/plain": [
       "<Figure size 432x288 with 1 Axes>"
      ]
     },
     "metadata": {
      "needs_background": "light"
     },
     "output_type": "display_data"
    }
   ],
   "source": [
    "sns.boxplot(x=df['bath'])"
   ]
  },
  {
   "cell_type": "code",
   "execution_count": 68,
   "id": "24844571",
   "metadata": {},
   "outputs": [],
   "source": [
    "df.loc[df['bath']>4,'bath']=4   #capping the outliers"
   ]
  },
  {
   "cell_type": "markdown",
   "id": "939d82c1",
   "metadata": {},
   "source": [
    "### Univariate Analysis on balcony"
   ]
  },
  {
   "cell_type": "code",
   "execution_count": 69,
   "id": "34231b56",
   "metadata": {},
   "outputs": [
    {
     "data": {
      "text/plain": [
       "<AxesSubplot:xlabel='balcony', ylabel='count'>"
      ]
     },
     "execution_count": 69,
     "metadata": {},
     "output_type": "execute_result"
    },
    {
     "data": {
      "image/png": "[encoded data removed]",
      "text/plain": [
       "<Figure size 432x288 with 1 Axes>"
      ]
     },
     "metadata": {
      "needs_background": "light"
     },
     "output_type": "display_data"
    }
   ],
   "source": [
    "sns.countplot(x=df['balcony'])"
   ]
  },
  {
   "cell_type": "code",
   "execution_count": 70,
   "id": "58b5c05e",
   "metadata": {},
   "outputs": [
    {
     "data": {
      "text/plain": [
       "<AxesSubplot:xlabel='balcony'>"
      ]
     },
     "execution_count": 70,
     "metadata": {},
     "output_type": "execute_result"
    },
    {
     "data": {
      "image/png": "[encoded data removed]",
      "text/plain": [
       "<Figure size 432x288 with 1 Axes>"
      ]
     },
     "metadata": {
      "needs_background": "light"
     },
     "output_type": "display_data"
    }
   ],
   "source": [
    "sns.boxplot(x=df['balcony'])"
   ]
  },
  {
   "cell_type": "code",
   "execution_count": null,
   "id": "fa6db76d",
   "metadata": {},
   "outputs": [],
   "source": []
  },
  {
   "cell_type": "markdown",
   "id": "60288f0e",
   "metadata": {},
   "source": [
    "## Bivariate Analysis"
   ]
  },
  {
   "cell_type": "code",
   "execution_count": 71,
   "id": "93581bfa",
   "metadata": {},
   "outputs": [
    {
     "data": {
      "text/html": [
       "<div>\n",
       "<style scoped>\n",
       "    .dataframe tbody tr th:only-of-type {\n",
       "        vertical-align: middle;\n",
       "    }\n",
       "\n",
       "    .dataframe tbody tr th {\n",
       "        vertical-align: top;\n",
       "    }\n",
       "\n",
       "    .dataframe thead th {\n",
       "        text-align: right;\n",
       "    }\n",
       "</style>\n",
       "<table border=\"1\" class=\"dataframe\">\n",
       "  <thead>\n",
       "    <tr style=\"text-align: right;\">\n",
       "      <th></th>\n",
       "      <th>location</th>\n",
       "      <th>size</th>\n",
       "      <th>total_sqft</th>\n",
       "      <th>bath</th>\n",
       "      <th>balcony</th>\n",
       "      <th>price</th>\n",
       "    </tr>\n",
       "  </thead>\n",
       "  <tbody>\n",
       "    <tr>\n",
       "      <th>0</th>\n",
       "      <td>Electronic City Phase II</td>\n",
       "      <td>2</td>\n",
       "      <td>1056.0</td>\n",
       "      <td>2</td>\n",
       "      <td>1.0</td>\n",
       "      <td>39.07</td>\n",
       "    </tr>\n",
       "    <tr>\n",
       "      <th>1</th>\n",
       "      <td>Chikka Tirupathi</td>\n",
       "      <td>4</td>\n",
       "      <td>2477.5</td>\n",
       "      <td>4</td>\n",
       "      <td>3.0</td>\n",
       "      <td>120.00</td>\n",
       "    </tr>\n",
       "    <tr>\n",
       "      <th>2</th>\n",
       "      <td>Uttarahalli</td>\n",
       "      <td>3</td>\n",
       "      <td>1440.0</td>\n",
       "      <td>2</td>\n",
       "      <td>3.0</td>\n",
       "      <td>62.00</td>\n",
       "    </tr>\n",
       "    <tr>\n",
       "      <th>3</th>\n",
       "      <td>Lingadheeranahalli</td>\n",
       "      <td>3</td>\n",
       "      <td>1521.0</td>\n",
       "      <td>3</td>\n",
       "      <td>1.0</td>\n",
       "      <td>95.00</td>\n",
       "    </tr>\n",
       "    <tr>\n",
       "      <th>4</th>\n",
       "      <td>Kothanur</td>\n",
       "      <td>2</td>\n",
       "      <td>1200.0</td>\n",
       "      <td>2</td>\n",
       "      <td>1.0</td>\n",
       "      <td>51.00</td>\n",
       "    </tr>\n",
       "  </tbody>\n",
       "</table>\n",
       "</div>"
      ],
      "text/plain": [
       "                   location  size  total_sqft  bath  balcony   price\n",
       "0  Electronic City Phase II     2      1056.0     2      1.0   39.07\n",
       "1          Chikka Tirupathi     4      2477.5     4      3.0  120.00\n",
       "2               Uttarahalli     3      1440.0     2      3.0   62.00\n",
       "3        Lingadheeranahalli     3      1521.0     3      1.0   95.00\n",
       "4                  Kothanur     2      1200.0     2      1.0   51.00"
      ]
     },
     "execution_count": 71,
     "metadata": {},
     "output_type": "execute_result"
    }
   ],
   "source": [
    "df.head()"
   ]
  },
  {
   "cell_type": "code",
   "execution_count": 72,
   "id": "8dbdfc6a",
   "metadata": {},
   "outputs": [
    {
     "data": {
      "text/plain": [
       "(12719, 6)"
      ]
     },
     "execution_count": 72,
     "metadata": {},
     "output_type": "execute_result"
    }
   ],
   "source": [
    "df.shape"
   ]
  },
  {
   "cell_type": "code",
   "execution_count": 73,
   "id": "a882bb27",
   "metadata": {},
   "outputs": [
    {
     "data": {
      "text/html": [
       "<div>\n",
       "<style scoped>\n",
       "    .dataframe tbody tr th:only-of-type {\n",
       "        vertical-align: middle;\n",
       "    }\n",
       "\n",
       "    .dataframe tbody tr th {\n",
       "        vertical-align: top;\n",
       "    }\n",
       "\n",
       "    .dataframe thead th {\n",
       "        text-align: right;\n",
       "    }\n",
       "</style>\n",
       "<table border=\"1\" class=\"dataframe\">\n",
       "  <thead>\n",
       "    <tr style=\"text-align: right;\">\n",
       "      <th></th>\n",
       "      <th>location</th>\n",
       "      <th>size</th>\n",
       "      <th>total_sqft</th>\n",
       "      <th>bath</th>\n",
       "      <th>balcony</th>\n",
       "      <th>price</th>\n",
       "    </tr>\n",
       "  </thead>\n",
       "  <tbody>\n",
       "    <tr>\n",
       "      <th>0</th>\n",
       "      <td>Electronic City Phase II</td>\n",
       "      <td>2</td>\n",
       "      <td>1056.0</td>\n",
       "      <td>2</td>\n",
       "      <td>1.0</td>\n",
       "      <td>39.07</td>\n",
       "    </tr>\n",
       "    <tr>\n",
       "      <th>1</th>\n",
       "      <td>Chikka Tirupathi</td>\n",
       "      <td>4</td>\n",
       "      <td>2477.5</td>\n",
       "      <td>4</td>\n",
       "      <td>3.0</td>\n",
       "      <td>120.00</td>\n",
       "    </tr>\n",
       "    <tr>\n",
       "      <th>2</th>\n",
       "      <td>Uttarahalli</td>\n",
       "      <td>3</td>\n",
       "      <td>1440.0</td>\n",
       "      <td>2</td>\n",
       "      <td>3.0</td>\n",
       "      <td>62.00</td>\n",
       "    </tr>\n",
       "    <tr>\n",
       "      <th>3</th>\n",
       "      <td>Lingadheeranahalli</td>\n",
       "      <td>3</td>\n",
       "      <td>1521.0</td>\n",
       "      <td>3</td>\n",
       "      <td>1.0</td>\n",
       "      <td>95.00</td>\n",
       "    </tr>\n",
       "    <tr>\n",
       "      <th>4</th>\n",
       "      <td>Kothanur</td>\n",
       "      <td>2</td>\n",
       "      <td>1200.0</td>\n",
       "      <td>2</td>\n",
       "      <td>1.0</td>\n",
       "      <td>51.00</td>\n",
       "    </tr>\n",
       "    <tr>\n",
       "      <th>...</th>\n",
       "      <td>...</td>\n",
       "      <td>...</td>\n",
       "      <td>...</td>\n",
       "      <td>...</td>\n",
       "      <td>...</td>\n",
       "      <td>...</td>\n",
       "    </tr>\n",
       "    <tr>\n",
       "      <th>13315</th>\n",
       "      <td>Whitefield</td>\n",
       "      <td>5</td>\n",
       "      <td>2477.5</td>\n",
       "      <td>4</td>\n",
       "      <td>0.0</td>\n",
       "      <td>231.00</td>\n",
       "    </tr>\n",
       "    <tr>\n",
       "      <th>13316</th>\n",
       "      <td>other</td>\n",
       "      <td>4</td>\n",
       "      <td>2477.5</td>\n",
       "      <td>4</td>\n",
       "      <td>2.0</td>\n",
       "      <td>400.00</td>\n",
       "    </tr>\n",
       "    <tr>\n",
       "      <th>13317</th>\n",
       "      <td>Raja Rajeshwari Nagar</td>\n",
       "      <td>2</td>\n",
       "      <td>1141.0</td>\n",
       "      <td>2</td>\n",
       "      <td>1.0</td>\n",
       "      <td>60.00</td>\n",
       "    </tr>\n",
       "    <tr>\n",
       "      <th>13318</th>\n",
       "      <td>Padmanabhanagar</td>\n",
       "      <td>4</td>\n",
       "      <td>2477.5</td>\n",
       "      <td>4</td>\n",
       "      <td>1.0</td>\n",
       "      <td>488.00</td>\n",
       "    </tr>\n",
       "    <tr>\n",
       "      <th>13319</th>\n",
       "      <td>Doddathoguru</td>\n",
       "      <td>1</td>\n",
       "      <td>550.0</td>\n",
       "      <td>1</td>\n",
       "      <td>1.0</td>\n",
       "      <td>17.00</td>\n",
       "    </tr>\n",
       "  </tbody>\n",
       "</table>\n",
       "<p>12719 rows × 6 columns</p>\n",
       "</div>"
      ],
      "text/plain": [
       "                       location  size  total_sqft  bath  balcony   price\n",
       "0      Electronic City Phase II     2      1056.0     2      1.0   39.07\n",
       "1              Chikka Tirupathi     4      2477.5     4      3.0  120.00\n",
       "2                   Uttarahalli     3      1440.0     2      3.0   62.00\n",
       "3            Lingadheeranahalli     3      1521.0     3      1.0   95.00\n",
       "4                      Kothanur     2      1200.0     2      1.0   51.00\n",
       "...                         ...   ...         ...   ...      ...     ...\n",
       "13315                Whitefield     5      2477.5     4      0.0  231.00\n",
       "13316                     other     4      2477.5     4      2.0  400.00\n",
       "13317     Raja Rajeshwari Nagar     2      1141.0     2      1.0   60.00\n",
       "13318           Padmanabhanagar     4      2477.5     4      1.0  488.00\n",
       "13319              Doddathoguru     1       550.0     1      1.0   17.00\n",
       "\n",
       "[12719 rows x 6 columns]"
      ]
     },
     "execution_count": 73,
     "metadata": {},
     "output_type": "execute_result"
    }
   ],
   "source": [
    "df"
   ]
  },
  {
   "cell_type": "markdown",
   "id": "ba6356d6",
   "metadata": {},
   "source": [
    "##### size v/s Price"
   ]
  },
  {
   "cell_type": "code",
   "execution_count": 74,
   "id": "0a2368a1",
   "metadata": {},
   "outputs": [
    {
     "data": {
      "text/plain": [
       "<AxesSubplot:xlabel='size', ylabel='price'>"
      ]
     },
     "execution_count": 74,
     "metadata": {},
     "output_type": "execute_result"
    },
    {
     "data": {
      "image/png": "[encoded data removed]",
      "text/plain": [
       "<Figure size 720x504 with 1 Axes>"
      ]
     },
     "metadata": {
      "needs_background": "light"
     },
     "output_type": "display_data"
    }
   ],
   "source": [
    "plt.figure(figsize=(10,7))\n",
    "sns.stripplot(x='size',y='price',data=df)"
   ]
  },
  {
   "cell_type": "code",
   "execution_count": 75,
   "id": "04c157f8",
   "metadata": {},
   "outputs": [
    {
     "data": {
      "text/plain": [
       "<AxesSubplot:xlabel='size', ylabel='price'>"
      ]
     },
     "execution_count": 75,
     "metadata": {},
     "output_type": "execute_result"
    },
    {
     "data": {
      "image/png": "[encoded data removed]",
      "text/plain": [
       "<Figure size 720x504 with 1 Axes>"
      ]
     },
     "metadata": {
      "needs_background": "light"
     },
     "output_type": "display_data"
    }
   ],
   "source": [
    "plt.figure(figsize=(10,7))\n",
    "sns.boxplot(x='size',y='price',data=df)"
   ]
  },
  {
   "cell_type": "code",
   "execution_count": null,
   "id": "403120a3",
   "metadata": {},
   "outputs": [],
   "source": []
  },
  {
   "cell_type": "code",
   "execution_count": 76,
   "id": "6569e6b1",
   "metadata": {},
   "outputs": [
    {
     "data": {
      "text/plain": [
       "<AxesSubplot:xlabel='bath', ylabel='price'>"
      ]
     },
     "execution_count": 76,
     "metadata": {},
     "output_type": "execute_result"
    },
    {
     "data": {
      "image/png": "[encoded data removed]",
      "text/plain": [
       "<Figure size 720x504 with 1 Axes>"
      ]
     },
     "metadata": {
      "needs_background": "light"
     },
     "output_type": "display_data"
    }
   ],
   "source": [
    "plt.figure(figsize=(10,7))\n",
    "sns.boxplot(x='bath',y='price',data=df)"
   ]
  },
  {
   "cell_type": "markdown",
   "id": "57d43d52",
   "metadata": {},
   "source": [
    "### Size v/s Bath"
   ]
  },
  {
   "cell_type": "code",
   "execution_count": 77,
   "id": "5740e5f2",
   "metadata": {},
   "outputs": [
    {
     "data": {
      "text/plain": [
       "<AxesSubplot:xlabel='size', ylabel='bath'>"
      ]
     },
     "execution_count": 77,
     "metadata": {},
     "output_type": "execute_result"
    },
    {
     "data": {
      "image/png": "[encoded data removed]",
      "text/plain": [
       "<Figure size 432x288 with 1 Axes>"
      ]
     },
     "metadata": {
      "needs_background": "light"
     },
     "output_type": "display_data"
    }
   ],
   "source": [
    "sns.stripplot(x=df['size'],y=df['bath'])       #its very rare that no of bath greater than size"
   ]
  },
  {
   "cell_type": "code",
   "execution_count": 78,
   "id": "d60fd39b",
   "metadata": {},
   "outputs": [
    {
     "data": {
      "text/html": [
       "<div>\n",
       "<style scoped>\n",
       "    .dataframe tbody tr th:only-of-type {\n",
       "        vertical-align: middle;\n",
       "    }\n",
       "\n",
       "    .dataframe tbody tr th {\n",
       "        vertical-align: top;\n",
       "    }\n",
       "\n",
       "    .dataframe thead th {\n",
       "        text-align: right;\n",
       "    }\n",
       "</style>\n",
       "<table border=\"1\" class=\"dataframe\">\n",
       "  <thead>\n",
       "    <tr style=\"text-align: right;\">\n",
       "      <th></th>\n",
       "      <th>location</th>\n",
       "      <th>size</th>\n",
       "      <th>total_sqft</th>\n",
       "      <th>bath</th>\n",
       "      <th>balcony</th>\n",
       "      <th>price</th>\n",
       "    </tr>\n",
       "  </thead>\n",
       "  <tbody>\n",
       "    <tr>\n",
       "      <th>18</th>\n",
       "      <td>other</td>\n",
       "      <td>3</td>\n",
       "      <td>2477.5</td>\n",
       "      <td>4</td>\n",
       "      <td>2.0</td>\n",
       "      <td>290.00</td>\n",
       "    </tr>\n",
       "    <tr>\n",
       "      <th>84</th>\n",
       "      <td>EPIP Zone</td>\n",
       "      <td>3</td>\n",
       "      <td>1499.0</td>\n",
       "      <td>4</td>\n",
       "      <td>2.0</td>\n",
       "      <td>102.00</td>\n",
       "    </tr>\n",
       "    <tr>\n",
       "      <th>119</th>\n",
       "      <td>Hennur Road</td>\n",
       "      <td>2</td>\n",
       "      <td>276.0</td>\n",
       "      <td>3</td>\n",
       "      <td>3.0</td>\n",
       "      <td>23.00</td>\n",
       "    </tr>\n",
       "    <tr>\n",
       "      <th>150</th>\n",
       "      <td>Mysore Road</td>\n",
       "      <td>3</td>\n",
       "      <td>1710.0</td>\n",
       "      <td>4</td>\n",
       "      <td>2.0</td>\n",
       "      <td>91.31</td>\n",
       "    </tr>\n",
       "    <tr>\n",
       "      <th>153</th>\n",
       "      <td>other</td>\n",
       "      <td>3</td>\n",
       "      <td>2477.5</td>\n",
       "      <td>4</td>\n",
       "      <td>2.0</td>\n",
       "      <td>235.00</td>\n",
       "    </tr>\n",
       "    <tr>\n",
       "      <th>...</th>\n",
       "      <td>...</td>\n",
       "      <td>...</td>\n",
       "      <td>...</td>\n",
       "      <td>...</td>\n",
       "      <td>...</td>\n",
       "      <td>...</td>\n",
       "    </tr>\n",
       "    <tr>\n",
       "      <th>12931</th>\n",
       "      <td>Kammanahalli</td>\n",
       "      <td>2</td>\n",
       "      <td>1200.0</td>\n",
       "      <td>3</td>\n",
       "      <td>2.0</td>\n",
       "      <td>80.00</td>\n",
       "    </tr>\n",
       "    <tr>\n",
       "      <th>12980</th>\n",
       "      <td>Yelahanka</td>\n",
       "      <td>2</td>\n",
       "      <td>1267.0</td>\n",
       "      <td>3</td>\n",
       "      <td>1.0</td>\n",
       "      <td>78.00</td>\n",
       "    </tr>\n",
       "    <tr>\n",
       "      <th>13048</th>\n",
       "      <td>Sarjapur  Road</td>\n",
       "      <td>3</td>\n",
       "      <td>1984.0</td>\n",
       "      <td>4</td>\n",
       "      <td>1.0</td>\n",
       "      <td>148.00</td>\n",
       "    </tr>\n",
       "    <tr>\n",
       "      <th>13229</th>\n",
       "      <td>Ambedkar Nagar</td>\n",
       "      <td>3</td>\n",
       "      <td>2395.0</td>\n",
       "      <td>4</td>\n",
       "      <td>2.0</td>\n",
       "      <td>150.00</td>\n",
       "    </tr>\n",
       "    <tr>\n",
       "      <th>13231</th>\n",
       "      <td>Thigalarapalya</td>\n",
       "      <td>3</td>\n",
       "      <td>2215.0</td>\n",
       "      <td>4</td>\n",
       "      <td>2.0</td>\n",
       "      <td>152.00</td>\n",
       "    </tr>\n",
       "  </tbody>\n",
       "</table>\n",
       "<p>437 rows × 6 columns</p>\n",
       "</div>"
      ],
      "text/plain": [
       "             location  size  total_sqft  bath  balcony   price\n",
       "18              other     3      2477.5     4      2.0  290.00\n",
       "84          EPIP Zone     3      1499.0     4      2.0  102.00\n",
       "119       Hennur Road     2       276.0     3      3.0   23.00\n",
       "150       Mysore Road     3      1710.0     4      2.0   91.31\n",
       "153             other     3      2477.5     4      2.0  235.00\n",
       "...               ...   ...         ...   ...      ...     ...\n",
       "12931    Kammanahalli     2      1200.0     3      2.0   80.00\n",
       "12980       Yelahanka     2      1267.0     3      1.0   78.00\n",
       "13048  Sarjapur  Road     3      1984.0     4      1.0  148.00\n",
       "13229  Ambedkar Nagar     3      2395.0     4      2.0  150.00\n",
       "13231  Thigalarapalya     3      2215.0     4      2.0  152.00\n",
       "\n",
       "[437 rows x 6 columns]"
      ]
     },
     "execution_count": 78,
     "metadata": {},
     "output_type": "execute_result"
    }
   ],
   "source": [
    "df[df['size']<df['bath']]                    #its very rare that no of bath greater than size"
   ]
  },
  {
   "cell_type": "code",
   "execution_count": 79,
   "id": "8765b979",
   "metadata": {},
   "outputs": [],
   "source": [
    "df=df[df['size']>=df['bath']]   #removed"
   ]
  },
  {
   "cell_type": "code",
   "execution_count": null,
   "id": "117403cc",
   "metadata": {},
   "outputs": [],
   "source": []
  },
  {
   "cell_type": "code",
   "execution_count": 80,
   "id": "4a740f54",
   "metadata": {},
   "outputs": [
    {
     "data": {
      "text/plain": [
       "<AxesSubplot:xlabel='size', ylabel='count'>"
      ]
     },
     "execution_count": 80,
     "metadata": {},
     "output_type": "execute_result"
    },
    {
     "data": {
      "image/png": "[encoded data removed]",
      "text/plain": [
       "<Figure size 720x504 with 1 Axes>"
      ]
     },
     "metadata": {
      "needs_background": "light"
     },
     "output_type": "display_data"
    }
   ],
   "source": [
    "plt.figure(figsize=(10,7))\n",
    "sns.countplot(x=df['size'],hue=df['balcony'])       #its very rare that no of bath greater than size"
   ]
  },
  {
   "cell_type": "code",
   "execution_count": 81,
   "id": "e8ff8b48",
   "metadata": {},
   "outputs": [
    {
     "data": {
      "text/html": [
       "<div>\n",
       "<style scoped>\n",
       "    .dataframe tbody tr th:only-of-type {\n",
       "        vertical-align: middle;\n",
       "    }\n",
       "\n",
       "    .dataframe tbody tr th {\n",
       "        vertical-align: top;\n",
       "    }\n",
       "\n",
       "    .dataframe thead th {\n",
       "        text-align: right;\n",
       "    }\n",
       "</style>\n",
       "<table border=\"1\" class=\"dataframe\">\n",
       "  <thead>\n",
       "    <tr style=\"text-align: right;\">\n",
       "      <th></th>\n",
       "      <th>location</th>\n",
       "      <th>size</th>\n",
       "      <th>total_sqft</th>\n",
       "      <th>bath</th>\n",
       "      <th>balcony</th>\n",
       "      <th>price</th>\n",
       "    </tr>\n",
       "  </thead>\n",
       "  <tbody>\n",
       "    <tr>\n",
       "      <th>66</th>\n",
       "      <td>Gunjur</td>\n",
       "      <td>2</td>\n",
       "      <td>1140.0</td>\n",
       "      <td>2</td>\n",
       "      <td>3.0</td>\n",
       "      <td>43.0</td>\n",
       "    </tr>\n",
       "    <tr>\n",
       "      <th>76</th>\n",
       "      <td>Kalena Agrahara</td>\n",
       "      <td>2</td>\n",
       "      <td>1150.0</td>\n",
       "      <td>2</td>\n",
       "      <td>3.0</td>\n",
       "      <td>40.0</td>\n",
       "    </tr>\n",
       "    <tr>\n",
       "      <th>94</th>\n",
       "      <td>Thanisandra</td>\n",
       "      <td>2</td>\n",
       "      <td>1296.0</td>\n",
       "      <td>2</td>\n",
       "      <td>3.0</td>\n",
       "      <td>80.0</td>\n",
       "    </tr>\n",
       "    <tr>\n",
       "      <th>178</th>\n",
       "      <td>Malleshwaram</td>\n",
       "      <td>1</td>\n",
       "      <td>705.0</td>\n",
       "      <td>1</td>\n",
       "      <td>2.0</td>\n",
       "      <td>67.0</td>\n",
       "    </tr>\n",
       "    <tr>\n",
       "      <th>180</th>\n",
       "      <td>Hulimavu</td>\n",
       "      <td>2</td>\n",
       "      <td>1242.0</td>\n",
       "      <td>2</td>\n",
       "      <td>3.0</td>\n",
       "      <td>51.0</td>\n",
       "    </tr>\n",
       "    <tr>\n",
       "      <th>...</th>\n",
       "      <td>...</td>\n",
       "      <td>...</td>\n",
       "      <td>...</td>\n",
       "      <td>...</td>\n",
       "      <td>...</td>\n",
       "      <td>...</td>\n",
       "    </tr>\n",
       "    <tr>\n",
       "      <th>13098</th>\n",
       "      <td>Sanjay nagar</td>\n",
       "      <td>2</td>\n",
       "      <td>1180.0</td>\n",
       "      <td>2</td>\n",
       "      <td>3.0</td>\n",
       "      <td>80.0</td>\n",
       "    </tr>\n",
       "    <tr>\n",
       "      <th>13139</th>\n",
       "      <td>Nagarbhavi</td>\n",
       "      <td>2</td>\n",
       "      <td>1225.0</td>\n",
       "      <td>2</td>\n",
       "      <td>3.0</td>\n",
       "      <td>58.0</td>\n",
       "    </tr>\n",
       "    <tr>\n",
       "      <th>13238</th>\n",
       "      <td>other</td>\n",
       "      <td>2</td>\n",
       "      <td>1200.0</td>\n",
       "      <td>2</td>\n",
       "      <td>3.0</td>\n",
       "      <td>70.0</td>\n",
       "    </tr>\n",
       "    <tr>\n",
       "      <th>13253</th>\n",
       "      <td>Old Madras Road</td>\n",
       "      <td>2</td>\n",
       "      <td>1211.0</td>\n",
       "      <td>2</td>\n",
       "      <td>3.0</td>\n",
       "      <td>45.0</td>\n",
       "    </tr>\n",
       "    <tr>\n",
       "      <th>13305</th>\n",
       "      <td>Hulimavu</td>\n",
       "      <td>1</td>\n",
       "      <td>500.0</td>\n",
       "      <td>1</td>\n",
       "      <td>3.0</td>\n",
       "      <td>220.0</td>\n",
       "    </tr>\n",
       "  </tbody>\n",
       "</table>\n",
       "<p>348 rows × 6 columns</p>\n",
       "</div>"
      ],
      "text/plain": [
       "              location  size  total_sqft  bath  balcony  price\n",
       "66              Gunjur     2      1140.0     2      3.0   43.0\n",
       "76     Kalena Agrahara     2      1150.0     2      3.0   40.0\n",
       "94         Thanisandra     2      1296.0     2      3.0   80.0\n",
       "178       Malleshwaram     1       705.0     1      2.0   67.0\n",
       "180           Hulimavu     2      1242.0     2      3.0   51.0\n",
       "...                ...   ...         ...   ...      ...    ...\n",
       "13098     Sanjay nagar     2      1180.0     2      3.0   80.0\n",
       "13139       Nagarbhavi     2      1225.0     2      3.0   58.0\n",
       "13238            other     2      1200.0     2      3.0   70.0\n",
       "13253  Old Madras Road     2      1211.0     2      3.0   45.0\n",
       "13305         Hulimavu     1       500.0     1      3.0  220.0\n",
       "\n",
       "[348 rows x 6 columns]"
      ]
     },
     "execution_count": 81,
     "metadata": {},
     "output_type": "execute_result"
    }
   ],
   "source": [
    "df[df['size']<df['balcony']]  #its very rare that no of balcony greater than size"
   ]
  },
  {
   "cell_type": "code",
   "execution_count": 82,
   "id": "ea805c2c",
   "metadata": {},
   "outputs": [],
   "source": [
    "df=df[df['size']>=df['balcony']]"
   ]
  },
  {
   "cell_type": "code",
   "execution_count": null,
   "id": "eb1d8cad",
   "metadata": {},
   "outputs": [],
   "source": []
  },
  {
   "cell_type": "code",
   "execution_count": null,
   "id": "05f2243f",
   "metadata": {},
   "outputs": [],
   "source": []
  },
  {
   "cell_type": "code",
   "execution_count": 83,
   "id": "d7d76cac",
   "metadata": {},
   "outputs": [
    {
     "data": {
      "text/html": [
       "<div>\n",
       "<style scoped>\n",
       "    .dataframe tbody tr th:only-of-type {\n",
       "        vertical-align: middle;\n",
       "    }\n",
       "\n",
       "    .dataframe tbody tr th {\n",
       "        vertical-align: top;\n",
       "    }\n",
       "\n",
       "    .dataframe thead th {\n",
       "        text-align: right;\n",
       "    }\n",
       "</style>\n",
       "<table border=\"1\" class=\"dataframe\">\n",
       "  <thead>\n",
       "    <tr style=\"text-align: right;\">\n",
       "      <th></th>\n",
       "      <th>location</th>\n",
       "      <th>size</th>\n",
       "      <th>total_sqft</th>\n",
       "      <th>bath</th>\n",
       "      <th>balcony</th>\n",
       "      <th>price</th>\n",
       "    </tr>\n",
       "  </thead>\n",
       "  <tbody>\n",
       "    <tr>\n",
       "      <th>0</th>\n",
       "      <td>Electronic City Phase II</td>\n",
       "      <td>2</td>\n",
       "      <td>1056.0</td>\n",
       "      <td>2</td>\n",
       "      <td>1.0</td>\n",
       "      <td>39.07</td>\n",
       "    </tr>\n",
       "    <tr>\n",
       "      <th>1</th>\n",
       "      <td>Chikka Tirupathi</td>\n",
       "      <td>4</td>\n",
       "      <td>2477.5</td>\n",
       "      <td>4</td>\n",
       "      <td>3.0</td>\n",
       "      <td>120.00</td>\n",
       "    </tr>\n",
       "    <tr>\n",
       "      <th>2</th>\n",
       "      <td>Uttarahalli</td>\n",
       "      <td>3</td>\n",
       "      <td>1440.0</td>\n",
       "      <td>2</td>\n",
       "      <td>3.0</td>\n",
       "      <td>62.00</td>\n",
       "    </tr>\n",
       "    <tr>\n",
       "      <th>3</th>\n",
       "      <td>Lingadheeranahalli</td>\n",
       "      <td>3</td>\n",
       "      <td>1521.0</td>\n",
       "      <td>3</td>\n",
       "      <td>1.0</td>\n",
       "      <td>95.00</td>\n",
       "    </tr>\n",
       "    <tr>\n",
       "      <th>4</th>\n",
       "      <td>Kothanur</td>\n",
       "      <td>2</td>\n",
       "      <td>1200.0</td>\n",
       "      <td>2</td>\n",
       "      <td>1.0</td>\n",
       "      <td>51.00</td>\n",
       "    </tr>\n",
       "    <tr>\n",
       "      <th>...</th>\n",
       "      <td>...</td>\n",
       "      <td>...</td>\n",
       "      <td>...</td>\n",
       "      <td>...</td>\n",
       "      <td>...</td>\n",
       "      <td>...</td>\n",
       "    </tr>\n",
       "    <tr>\n",
       "      <th>13315</th>\n",
       "      <td>Whitefield</td>\n",
       "      <td>5</td>\n",
       "      <td>2477.5</td>\n",
       "      <td>4</td>\n",
       "      <td>0.0</td>\n",
       "      <td>231.00</td>\n",
       "    </tr>\n",
       "    <tr>\n",
       "      <th>13316</th>\n",
       "      <td>other</td>\n",
       "      <td>4</td>\n",
       "      <td>2477.5</td>\n",
       "      <td>4</td>\n",
       "      <td>2.0</td>\n",
       "      <td>400.00</td>\n",
       "    </tr>\n",
       "    <tr>\n",
       "      <th>13317</th>\n",
       "      <td>Raja Rajeshwari Nagar</td>\n",
       "      <td>2</td>\n",
       "      <td>1141.0</td>\n",
       "      <td>2</td>\n",
       "      <td>1.0</td>\n",
       "      <td>60.00</td>\n",
       "    </tr>\n",
       "    <tr>\n",
       "      <th>13318</th>\n",
       "      <td>Padmanabhanagar</td>\n",
       "      <td>4</td>\n",
       "      <td>2477.5</td>\n",
       "      <td>4</td>\n",
       "      <td>1.0</td>\n",
       "      <td>488.00</td>\n",
       "    </tr>\n",
       "    <tr>\n",
       "      <th>13319</th>\n",
       "      <td>Doddathoguru</td>\n",
       "      <td>1</td>\n",
       "      <td>550.0</td>\n",
       "      <td>1</td>\n",
       "      <td>1.0</td>\n",
       "      <td>17.00</td>\n",
       "    </tr>\n",
       "  </tbody>\n",
       "</table>\n",
       "<p>11934 rows × 6 columns</p>\n",
       "</div>"
      ],
      "text/plain": [
       "                       location  size  total_sqft  bath  balcony   price\n",
       "0      Electronic City Phase II     2      1056.0     2      1.0   39.07\n",
       "1              Chikka Tirupathi     4      2477.5     4      3.0  120.00\n",
       "2                   Uttarahalli     3      1440.0     2      3.0   62.00\n",
       "3            Lingadheeranahalli     3      1521.0     3      1.0   95.00\n",
       "4                      Kothanur     2      1200.0     2      1.0   51.00\n",
       "...                         ...   ...         ...   ...      ...     ...\n",
       "13315                Whitefield     5      2477.5     4      0.0  231.00\n",
       "13316                     other     4      2477.5     4      2.0  400.00\n",
       "13317     Raja Rajeshwari Nagar     2      1141.0     2      1.0   60.00\n",
       "13318           Padmanabhanagar     4      2477.5     4      1.0  488.00\n",
       "13319              Doddathoguru     1       550.0     1      1.0   17.00\n",
       "\n",
       "[11934 rows x 6 columns]"
      ]
     },
     "execution_count": 83,
     "metadata": {},
     "output_type": "execute_result"
    }
   ],
   "source": [
    "df"
   ]
  },
  {
   "cell_type": "code",
   "execution_count": null,
   "id": "454c93a7",
   "metadata": {},
   "outputs": [],
   "source": []
  },
  {
   "cell_type": "code",
   "execution_count": null,
   "id": "eac58f0e",
   "metadata": {},
   "outputs": [],
   "source": []
  },
  {
   "cell_type": "markdown",
   "id": "ce5d3faf",
   "metadata": {},
   "source": [
    "### Introducing two more column sqft_per_room and price_per_sqft"
   ]
  },
  {
   "cell_type": "code",
   "execution_count": 84,
   "id": "41074409",
   "metadata": {},
   "outputs": [],
   "source": [
    "df['sqft_per_room']=round(df['total_sqft']/df['size'],0)"
   ]
  },
  {
   "cell_type": "code",
   "execution_count": 85,
   "id": "b9e18802",
   "metadata": {},
   "outputs": [],
   "source": [
    "df['price_per_sqft']=round(df['price']*100000/df['total_sqft'],0) #prices are in lakhs"
   ]
  },
  {
   "cell_type": "code",
   "execution_count": null,
   "id": "d8423971",
   "metadata": {},
   "outputs": [],
   "source": []
  },
  {
   "cell_type": "code",
   "execution_count": 86,
   "id": "74a97635",
   "metadata": {},
   "outputs": [
    {
     "data": {
      "text/plain": [
       "<AxesSubplot:xlabel='price_per_sqft', ylabel='Density'>"
      ]
     },
     "execution_count": 86,
     "metadata": {},
     "output_type": "execute_result"
    },
    {
     "data": {
      "image/png": "[encoded data removed]",
      "text/plain": [
       "<Figure size 864x504 with 1 Axes>"
      ]
     },
     "metadata": {
      "needs_background": "light"
     },
     "output_type": "display_data"
    }
   ],
   "source": [
    "plt.figure(figsize=(12,7))\n",
    "sns.histplot(x=df['price_per_sqft'],kde=True,stat='density',bins=100) #right skewed bell curve"
   ]
  },
  {
   "cell_type": "code",
   "execution_count": 87,
   "id": "367fa227",
   "metadata": {},
   "outputs": [
    {
     "data": {
      "text/plain": [
       "<AxesSubplot:xlabel='price_per_sqft'>"
      ]
     },
     "execution_count": 87,
     "metadata": {},
     "output_type": "execute_result"
    },
    {
     "data": {
      "image/png": "[encoded data removed]",
      "text/plain": [
       "<Figure size 432x288 with 1 Axes>"
      ]
     },
     "metadata": {
      "needs_background": "light"
     },
     "output_type": "display_data"
    }
   ],
   "source": [
    "sns.boxplot(x=df['price_per_sqft'])"
   ]
  },
  {
   "cell_type": "code",
   "execution_count": 88,
   "id": "192dea60",
   "metadata": {},
   "outputs": [],
   "source": [
    "p75=np.percentile(df['price_per_sqft'],75)\n",
    "p25=np.percentile(df['price_per_sqft'],25)\n",
    "IQR=p75-p25\n",
    "mx=p75+1.5*IQR"
   ]
  },
  {
   "cell_type": "code",
   "execution_count": 89,
   "id": "fb7533db",
   "metadata": {},
   "outputs": [],
   "source": [
    "df=df[df['price_per_sqft']<=mx]"
   ]
  },
  {
   "cell_type": "code",
   "execution_count": null,
   "id": "d2c2936f",
   "metadata": {},
   "outputs": [],
   "source": []
  },
  {
   "cell_type": "code",
   "execution_count": 90,
   "id": "9ba3882d",
   "metadata": {},
   "outputs": [
    {
     "data": {
      "text/plain": [
       "<AxesSubplot:xlabel='sqft_per_room', ylabel='Density'>"
      ]
     },
     "execution_count": 90,
     "metadata": {},
     "output_type": "execute_result"
    },
    {
     "data": {
      "image/png": "[encoded data removed]",
      "text/plain": [
       "<Figure size 864x504 with 1 Axes>"
      ]
     },
     "metadata": {
      "needs_background": "light"
     },
     "output_type": "display_data"
    }
   ],
   "source": [
    "plt.figure(figsize=(12,7))\n",
    "sns.histplot(x=df['sqft_per_room'],kde=True,stat='density',bins=100) #bell curve"
   ]
  },
  {
   "cell_type": "code",
   "execution_count": 91,
   "id": "41a49fd3",
   "metadata": {},
   "outputs": [
    {
     "data": {
      "text/plain": [
       "15779.724755571706"
      ]
     },
     "execution_count": 91,
     "metadata": {},
     "output_type": "execute_result"
    }
   ],
   "source": [
    "var=np.var(df['sqft_per_room'])\n",
    "var"
   ]
  },
  {
   "cell_type": "code",
   "execution_count": 92,
   "id": "2c0200d6",
   "metadata": {},
   "outputs": [
    {
     "data": {
      "text/plain": [
       "125.61737441760079"
      ]
     },
     "execution_count": 92,
     "metadata": {},
     "output_type": "execute_result"
    }
   ],
   "source": [
    "sd=pow(var,0.5)\n",
    "sd"
   ]
  },
  {
   "cell_type": "code",
   "execution_count": 93,
   "id": "042f2e05",
   "metadata": {},
   "outputs": [
    {
     "data": {
      "text/plain": [
       "(548.5366878267364, 550.0, ModeResult(mode=array([600.]), count=array([436])))"
      ]
     },
     "execution_count": 93,
     "metadata": {},
     "output_type": "execute_result"
    }
   ],
   "source": [
    "np.mean(df['sqft_per_room']),np.median(df['sqft_per_room']),st.mode(df['sqft_per_room'])  #almost normal distribution is there "
   ]
  },
  {
   "cell_type": "code",
   "execution_count": 94,
   "id": "5938d62a",
   "metadata": {},
   "outputs": [],
   "source": [
    "z_score=(df['sqft_per_room']-np.mean(df['sqft_per_room']))/sd"
   ]
  },
  {
   "cell_type": "code",
   "execution_count": 95,
   "id": "fb545f5b",
   "metadata": {},
   "outputs": [],
   "source": [
    "df=df[np.logical_or(z_score>=-3,z_score<=3)] #removing all those row whose z_score value <-3 or >3"
   ]
  },
  {
   "cell_type": "code",
   "execution_count": 96,
   "id": "fa67f49d",
   "metadata": {},
   "outputs": [],
   "source": [
    "df.drop(columns=['sqft_per_room','price_per_sqft'],inplace=True)"
   ]
  },
  {
   "cell_type": "markdown",
   "id": "5615080f",
   "metadata": {},
   "source": [
    "## Model Training"
   ]
  },
  {
   "cell_type": "code",
   "execution_count": null,
   "id": "5cbea261",
   "metadata": {},
   "outputs": [],
   "source": []
  },
  {
   "cell_type": "code",
   "execution_count": 97,
   "id": "a462cc5a",
   "metadata": {},
   "outputs": [],
   "source": [
    "dummies=pd.get_dummies(df['location'])\n",
    "dummies.drop(columns=['other'],inplace=True)"
   ]
  },
  {
   "cell_type": "code",
   "execution_count": 98,
   "id": "623b5764",
   "metadata": {},
   "outputs": [],
   "source": [
    "location=dummies.columns.values"
   ]
  },
  {
   "cell_type": "code",
   "execution_count": 99,
   "id": "c64f940f",
   "metadata": {},
   "outputs": [
    {
     "data": {
      "text/plain": [
       "array([' Devarachikkanahalli', '1st Block Jayanagar',\n",
       "       '1st Phase JP Nagar', '2nd Phase Judicial Layout',\n",
       "       '2nd Stage Nagarbhavi', '5th Block Hbr Layout',\n",
       "       '5th Phase JP Nagar', '6th Phase JP Nagar', '7th Phase JP Nagar',\n",
       "       '8th Phase JP Nagar', '9th Phase JP Nagar', 'AECS Layout',\n",
       "       'Abbigere', 'Akshaya Nagar', 'Ambalipura', 'Ambedkar Nagar',\n",
       "       'Amruthahalli', 'Anandapura', 'Ananth Nagar', 'Anekal',\n",
       "       'Anjanapura', 'Ardendale', 'Arekere', 'Attibele', 'BEML Layout',\n",
       "       'BTM 2nd Stage', 'BTM Layout', 'Babusapalaya', 'Badavala Nagar',\n",
       "       'Balagere', 'Banashankari', 'Banashankari Stage II',\n",
       "       'Banashankari Stage III', 'Banashankari Stage V',\n",
       "       'Banashankari Stage VI', 'Banaswadi', 'Banjara Layout',\n",
       "       'Bannerghatta', 'Bannerghatta Road', 'Basavangudi',\n",
       "       'Basaveshwara Nagar', 'Battarahalli', 'Begur', 'Begur Road',\n",
       "       'Bellandur', 'Benson Town', 'Bharathi Nagar', 'Bhoganhalli',\n",
       "       'Billekahalli', 'Binny Pete', 'Bisuvanahalli', 'Bommanahalli',\n",
       "       'Bommasandra', 'Bommasandra Industrial Area', 'Bommenahalli',\n",
       "       'Brookefield', 'Budigere', 'CV Raman Nagar', 'Chamrajpet',\n",
       "       'Chandapura', 'Channasandra', 'Chikka Tirupathi', 'Chikkabanavar',\n",
       "       'Chikkalasandra', 'Choodasandra', 'Cooke Town', 'Cox Town',\n",
       "       'Dasanapura', 'Dasarahalli', 'Devanahalli', 'Dodda Nekkundi',\n",
       "       'Doddaballapur', 'Doddakallasandra', 'Doddathoguru', 'Domlur',\n",
       "       'Dommasandra', 'EPIP Zone', 'Electronic City',\n",
       "       'Electronic City Phase II', 'Electronics City Phase 1',\n",
       "       'Frazer Town', 'GM Palaya', 'Garudachar Palya', 'Giri Nagar',\n",
       "       'Gollarapalya Hosahalli', 'Gottigere', 'Green Glen Layout',\n",
       "       'Gubbalala', 'Gunjur', 'HAL 2nd Stage', 'HBR Layout',\n",
       "       'HRBR Layout', 'HSR Layout', 'Haralur Road', 'Harlur', 'Hebbal',\n",
       "       'Hebbal Kempapura', 'Hegde Nagar', 'Hennur', 'Hennur Road',\n",
       "       'Hoodi', 'Horamavu Agara', 'Horamavu Banaswadi', 'Hormavu',\n",
       "       'Hosa Road', 'Hosakerehalli', 'Hoskote', 'Hosur Road', 'Hulimavu',\n",
       "       'ISRO Layout', 'ITPL', 'Iblur Village', 'Indira Nagar', 'JP Nagar',\n",
       "       'Jakkur', 'Jalahalli', 'Jalahalli East', 'Jigani',\n",
       "       'Judicial Layout', 'KR Puram', 'Kadubeesanahalli', 'Kadugodi',\n",
       "       'Kaggadasapura', 'Kaggalipura', 'Kaikondrahalli',\n",
       "       'Kalena Agrahara', 'Kalyan nagar', 'Kambipura', 'Kammanahalli',\n",
       "       'Kammasandra', 'Kanakapura', 'Kanakpura Road', 'Kannamangala',\n",
       "       'Karuna Nagar', 'Kasavanhalli', 'Kasturi Nagar', 'Kathriguppe',\n",
       "       'Kaval Byrasandra', 'Kenchenahalli', 'Kengeri',\n",
       "       'Kengeri Satellite Town', 'Kereguddadahalli', 'Kodichikkanahalli',\n",
       "       'Kodigehaali', 'Kodigehalli', 'Kodihalli', 'Kogilu', 'Konanakunte',\n",
       "       'Koramangala', 'Kothannur', 'Kothanur', 'Kudlu', 'Kudlu Gate',\n",
       "       'Kumaraswami Layout', 'Kundalahalli', 'LB Shastri Nagar',\n",
       "       'Laggere', 'Lakshminarayana Pura', 'Lingadheeranahalli',\n",
       "       'Magadi Road', 'Mahadevpura', 'Mahalakshmi Layout', 'Mallasandra',\n",
       "       'Malleshpalya', 'Malleshwaram', 'Marathahalli', 'Margondanahalli',\n",
       "       'Marsur', 'Mico Layout', 'Munnekollal', 'Murugeshpalya',\n",
       "       'Mysore Road', 'NGR Layout', 'NRI Layout', 'Nagarbhavi',\n",
       "       'Nagasandra', 'Nagavara', 'Nagavarapalya', 'Narayanapura',\n",
       "       'Neeladri Nagar', 'Nehru Nagar', 'OMBR Layout', 'Old Airport Road',\n",
       "       'Old Madras Road', 'Padmanabhanagar', 'Pai Layout', 'Panathur',\n",
       "       'Parappana Agrahara', 'Pattandur Agrahara', 'Poorna Pragna Layout',\n",
       "       'Prithvi Layout', 'R.T. Nagar', 'Rachenahalli',\n",
       "       'Raja Rajeshwari Nagar', 'Rajaji Nagar', 'Rajiv Nagar',\n",
       "       'Ramagondanahalli', 'Ramamurthy Nagar', 'Rayasandra',\n",
       "       'Sahakara Nagar', 'Sanjay nagar', 'Sarakki Nagar', 'Sarjapur',\n",
       "       'Sarjapur  Road', 'Sarjapura - Attibele Road',\n",
       "       'Sector 2 HSR Layout', 'Sector 7 HSR Layout', 'Seegehalli',\n",
       "       'Shampura', 'Shivaji Nagar', 'Singasandra', 'Somasundara Palya',\n",
       "       'Sompura', 'Sonnenahalli', 'Subramanyapura', 'Sultan Palaya',\n",
       "       'TC Palaya', 'Talaghattapura', 'Thanisandra', 'Thigalarapalya',\n",
       "       'Thubarahalli', 'Thyagaraja Nagar', 'Tindlu', 'Tumkur Road',\n",
       "       'Ulsoor', 'Uttarahalli', 'Varthur', 'Varthur Road', 'Vasanthapura',\n",
       "       'Vidyaranyapura', 'Vijayanagar', 'Vishveshwarya Layout',\n",
       "       'Vishwapriya Layout', 'Vittasandra', 'Whitefield',\n",
       "       'Yelachenahalli', 'Yelahanka', 'Yelahanka New Town', 'Yelenahalli',\n",
       "       'Yeshwanthpur'], dtype=object)"
      ]
     },
     "execution_count": 99,
     "metadata": {},
     "output_type": "execute_result"
    }
   ],
   "source": [
    "location"
   ]
  },
  {
   "cell_type": "code",
   "execution_count": 100,
   "id": "029bfe37",
   "metadata": {},
   "outputs": [
    {
     "data": {
      "text/html": [
       "<div>\n",
       "<style scoped>\n",
       "    .dataframe tbody tr th:only-of-type {\n",
       "        vertical-align: middle;\n",
       "    }\n",
       "\n",
       "    .dataframe tbody tr th {\n",
       "        vertical-align: top;\n",
       "    }\n",
       "\n",
       "    .dataframe thead th {\n",
       "        text-align: right;\n",
       "    }\n",
       "</style>\n",
       "<table border=\"1\" class=\"dataframe\">\n",
       "  <thead>\n",
       "    <tr style=\"text-align: right;\">\n",
       "      <th></th>\n",
       "      <th>location</th>\n",
       "      <th>size</th>\n",
       "      <th>total_sqft</th>\n",
       "      <th>bath</th>\n",
       "      <th>balcony</th>\n",
       "      <th>price</th>\n",
       "    </tr>\n",
       "  </thead>\n",
       "  <tbody>\n",
       "    <tr>\n",
       "      <th>0</th>\n",
       "      <td>Electronic City Phase II</td>\n",
       "      <td>2</td>\n",
       "      <td>1056.0</td>\n",
       "      <td>2</td>\n",
       "      <td>1.0</td>\n",
       "      <td>39.07</td>\n",
       "    </tr>\n",
       "    <tr>\n",
       "      <th>1</th>\n",
       "      <td>Chikka Tirupathi</td>\n",
       "      <td>4</td>\n",
       "      <td>2477.5</td>\n",
       "      <td>4</td>\n",
       "      <td>3.0</td>\n",
       "      <td>120.00</td>\n",
       "    </tr>\n",
       "    <tr>\n",
       "      <th>2</th>\n",
       "      <td>Uttarahalli</td>\n",
       "      <td>3</td>\n",
       "      <td>1440.0</td>\n",
       "      <td>2</td>\n",
       "      <td>3.0</td>\n",
       "      <td>62.00</td>\n",
       "    </tr>\n",
       "    <tr>\n",
       "      <th>3</th>\n",
       "      <td>Lingadheeranahalli</td>\n",
       "      <td>3</td>\n",
       "      <td>1521.0</td>\n",
       "      <td>3</td>\n",
       "      <td>1.0</td>\n",
       "      <td>95.00</td>\n",
       "    </tr>\n",
       "    <tr>\n",
       "      <th>4</th>\n",
       "      <td>Kothanur</td>\n",
       "      <td>2</td>\n",
       "      <td>1200.0</td>\n",
       "      <td>2</td>\n",
       "      <td>1.0</td>\n",
       "      <td>51.00</td>\n",
       "    </tr>\n",
       "    <tr>\n",
       "      <th>...</th>\n",
       "      <td>...</td>\n",
       "      <td>...</td>\n",
       "      <td>...</td>\n",
       "      <td>...</td>\n",
       "      <td>...</td>\n",
       "      <td>...</td>\n",
       "    </tr>\n",
       "    <tr>\n",
       "      <th>13313</th>\n",
       "      <td>Uttarahalli</td>\n",
       "      <td>3</td>\n",
       "      <td>1345.0</td>\n",
       "      <td>2</td>\n",
       "      <td>1.0</td>\n",
       "      <td>57.00</td>\n",
       "    </tr>\n",
       "    <tr>\n",
       "      <th>13314</th>\n",
       "      <td>Green Glen Layout</td>\n",
       "      <td>3</td>\n",
       "      <td>1715.0</td>\n",
       "      <td>3</td>\n",
       "      <td>3.0</td>\n",
       "      <td>112.00</td>\n",
       "    </tr>\n",
       "    <tr>\n",
       "      <th>13315</th>\n",
       "      <td>Whitefield</td>\n",
       "      <td>5</td>\n",
       "      <td>2477.5</td>\n",
       "      <td>4</td>\n",
       "      <td>0.0</td>\n",
       "      <td>231.00</td>\n",
       "    </tr>\n",
       "    <tr>\n",
       "      <th>13317</th>\n",
       "      <td>Raja Rajeshwari Nagar</td>\n",
       "      <td>2</td>\n",
       "      <td>1141.0</td>\n",
       "      <td>2</td>\n",
       "      <td>1.0</td>\n",
       "      <td>60.00</td>\n",
       "    </tr>\n",
       "    <tr>\n",
       "      <th>13319</th>\n",
       "      <td>Doddathoguru</td>\n",
       "      <td>1</td>\n",
       "      <td>550.0</td>\n",
       "      <td>1</td>\n",
       "      <td>1.0</td>\n",
       "      <td>17.00</td>\n",
       "    </tr>\n",
       "  </tbody>\n",
       "</table>\n",
       "<p>10712 rows × 6 columns</p>\n",
       "</div>"
      ],
      "text/plain": [
       "                       location  size  total_sqft  bath  balcony   price\n",
       "0      Electronic City Phase II     2      1056.0     2      1.0   39.07\n",
       "1              Chikka Tirupathi     4      2477.5     4      3.0  120.00\n",
       "2                   Uttarahalli     3      1440.0     2      3.0   62.00\n",
       "3            Lingadheeranahalli     3      1521.0     3      1.0   95.00\n",
       "4                      Kothanur     2      1200.0     2      1.0   51.00\n",
       "...                         ...   ...         ...   ...      ...     ...\n",
       "13313               Uttarahalli     3      1345.0     2      1.0   57.00\n",
       "13314         Green Glen Layout     3      1715.0     3      3.0  112.00\n",
       "13315                Whitefield     5      2477.5     4      0.0  231.00\n",
       "13317     Raja Rajeshwari Nagar     2      1141.0     2      1.0   60.00\n",
       "13319              Doddathoguru     1       550.0     1      1.0   17.00\n",
       "\n",
       "[10712 rows x 6 columns]"
      ]
     },
     "execution_count": 100,
     "metadata": {},
     "output_type": "execute_result"
    }
   ],
   "source": [
    "df"
   ]
  },
  {
   "cell_type": "code",
   "execution_count": 101,
   "id": "f2606df3",
   "metadata": {},
   "outputs": [],
   "source": [
    "df.drop(columns=['location'],inplace=True)"
   ]
  },
  {
   "cell_type": "code",
   "execution_count": 102,
   "id": "5f2b9bfa",
   "metadata": {},
   "outputs": [],
   "source": [
    "df=pd.concat([df,dummies],axis=1)"
   ]
  },
  {
   "cell_type": "code",
   "execution_count": 103,
   "id": "abd9b365",
   "metadata": {},
   "outputs": [],
   "source": [
    "# df.drop(columns=['balcony'],inplace=True)"
   ]
  },
  {
   "cell_type": "code",
   "execution_count": 104,
   "id": "2757213c",
   "metadata": {},
   "outputs": [],
   "source": [
    "y=df['price']\n",
    "x=df.drop(columns=['price'])\n",
    "x_train,x_test,y_train,y_test=train_test_split(x,y)"
   ]
  },
  {
   "cell_type": "code",
   "execution_count": 105,
   "id": "3d8a1e43",
   "metadata": {},
   "outputs": [
    {
     "data": {
      "text/plain": [
       "12361     25.40\n",
       "2061      53.35\n",
       "4876      19.50\n",
       "6173      55.00\n",
       "10534    175.00\n",
       "          ...  \n",
       "13292     63.93\n",
       "11869     78.00\n",
       "5902      58.00\n",
       "12915     61.00\n",
       "12190     44.00\n",
       "Name: price, Length: 2678, dtype: float64"
      ]
     },
     "execution_count": 105,
     "metadata": {},
     "output_type": "execute_result"
    }
   ],
   "source": [
    "y_test"
   ]
  },
  {
   "cell_type": "code",
   "execution_count": 106,
   "id": "e7359820",
   "metadata": {},
   "outputs": [],
   "source": [
    "lr=LinearRegression()"
   ]
  },
  {
   "cell_type": "code",
   "execution_count": 107,
   "id": "33250475",
   "metadata": {},
   "outputs": [
    {
     "data": {
      "text/html": [
       "<style>#sk-container-id-1 {color: black;background-color: white;}#sk-container-id-1 pre{padding: 0;}#sk-container-id-1 div.sk-toggleable {background-color: white;}#sk-container-id-1 label.sk-toggleable__label {cursor: pointer;display: block;width: 100%;margin-bottom: 0;padding: 0.3em;box-sizing: border-box;text-align: center;}#sk-container-id-1 label.sk-toggleable__label-arrow:before {content: \"▸\";float: left;margin-right: 0.25em;color: #696969;}#sk-container-id-1 label.sk-toggleable__label-arrow:hover:before {color: black;}#sk-container-id-1 div.sk-estimator:hover label.sk-toggleable__label-arrow:before {color: black;}#sk-container-id-1 div.sk-toggleable__content {max-height: 0;max-width: 0;overflow: hidden;text-align: left;background-color: #f0f8ff;}#sk-container-id-1 div.sk-toggleable__content pre {margin: 0.2em;color: black;border-radius: 0.25em;background-color: #f0f8ff;}#sk-container-id-1 input.sk-toggleable__control:checked~div.sk-toggleable__content {max-height: 200px;max-width: 100%;overflow: auto;}#sk-container-id-1 input.sk-toggleable__control:checked~label.sk-toggleable__label-arrow:before {content: \"▾\";}#sk-container-id-1 div.sk-estimator input.sk-toggleable__control:checked~label.sk-toggleable__label {background-color: #d4ebff;}#sk-container-id-1 div.sk-label input.sk-toggleable__control:checked~label.sk-toggleable__label {background-color: #d4ebff;}#sk-container-id-1 input.sk-hidden--visually {border: 0;clip: rect(1px 1px 1px 1px);clip: rect(1px, 1px, 1px, 1px);height: 1px;margin: -1px;overflow: hidden;padding: 0;position: absolute;width: 1px;}#sk-container-id-1 div.sk-estimator {font-family: monospace;background-color: #f0f8ff;border: 1px dotted black;border-radius: 0.25em;box-sizing: border-box;margin-bottom: 0.5em;}#sk-container-id-1 div.sk-estimator:hover {background-color: #d4ebff;}#sk-container-id-1 div.sk-parallel-item::after {content: \"\";width: 100%;border-bottom: 1px solid gray;flex-grow: 1;}#sk-container-id-1 div.sk-label:hover label.sk-toggleable__label {background-color: #d4ebff;}#sk-container-id-1 div.sk-serial::before {content: \"\";position: absolute;border-left: 1px solid gray;box-sizing: border-box;top: 0;bottom: 0;left: 50%;z-index: 0;}#sk-container-id-1 div.sk-serial {display: flex;flex-direction: column;align-items: center;background-color: white;padding-right: 0.2em;padding-left: 0.2em;position: relative;}#sk-container-id-1 div.sk-item {position: relative;z-index: 1;}#sk-container-id-1 div.sk-parallel {display: flex;align-items: stretch;justify-content: center;background-color: white;position: relative;}#sk-container-id-1 div.sk-item::before, #sk-container-id-1 div.sk-parallel-item::before {content: \"\";position: absolute;border-left: 1px solid gray;box-sizing: border-box;top: 0;bottom: 0;left: 50%;z-index: -1;}#sk-container-id-1 div.sk-parallel-item {display: flex;flex-direction: column;z-index: 1;position: relative;background-color: white;}#sk-container-id-1 div.sk-parallel-item:first-child::after {align-self: flex-end;width: 50%;}#sk-container-id-1 div.sk-parallel-item:last-child::after {align-self: flex-start;width: 50%;}#sk-container-id-1 div.sk-parallel-item:only-child::after {width: 0;}#sk-container-id-1 div.sk-dashed-wrapped {border: 1px dashed gray;margin: 0 0.4em 0.5em 0.4em;box-sizing: border-box;padding-bottom: 0.4em;background-color: white;}#sk-container-id-1 div.sk-label label {font-family: monospace;font-weight: bold;display: inline-block;line-height: 1.2em;}#sk-container-id-1 div.sk-label-container {text-align: center;}#sk-container-id-1 div.sk-container {/* jupyter's `normalize.less` sets `[hidden] { display: none; }` but bootstrap.min.css set `[hidden] { display: none !important; }` so we also need the `!important` here to be able to override the default hidden behavior on the sphinx rendered scikit-learn.org. See: https://github.com/scikit-learn/scikit-learn/issues/21755 */display: inline-block !important;position: relative;}#sk-container-id-1 div.sk-text-repr-fallback {display: none;}</style><div id=\"sk-container-id-1\" class=\"sk-top-container\"><div class=\"sk-text-repr-fallback\"><pre>LinearRegression()</pre><b>In a Jupyter environment, please rerun this cell to show the HTML representation or trust the notebook. <br />On GitHub, the HTML representation is unable to render, please try loading this page with nbviewer.org.</b></div><div class=\"sk-container\" hidden><div class=\"sk-item\"><div class=\"sk-estimator sk-toggleable\"><input class=\"sk-toggleable__control sk-hidden--visually\" id=\"sk-estimator-id-1\" type=\"checkbox\" checked><label for=\"sk-estimator-id-1\" class=\"sk-toggleable__label sk-toggleable__label-arrow\">LinearRegression</label><div class=\"sk-toggleable__content\"><pre>LinearRegression()</pre></div></div></div></div></div>"
      ],
      "text/plain": [
       "LinearRegression()"
      ]
     },
     "execution_count": 107,
     "metadata": {},
     "output_type": "execute_result"
    }
   ],
   "source": [
    "lr.fit(x_train,y_train)"
   ]
  },
  {
   "cell_type": "code",
   "execution_count": 108,
   "id": "c840e450",
   "metadata": {},
   "outputs": [
    {
     "data": {
      "text/plain": [
       "0.7388623514025343"
      ]
     },
     "execution_count": 108,
     "metadata": {},
     "output_type": "execute_result"
    }
   ],
   "source": [
    "lr.score(x_train,y_train)"
   ]
  },
  {
   "cell_type": "code",
   "execution_count": 109,
   "id": "f7af03a4",
   "metadata": {},
   "outputs": [
    {
     "data": {
      "text/plain": [
       "0.7252253530883657"
      ]
     },
     "execution_count": 109,
     "metadata": {},
     "output_type": "execute_result"
    }
   ],
   "source": [
    "lr.score(x_test,y_test)"
   ]
  },
  {
   "cell_type": "code",
   "execution_count": null,
   "id": "329f1ed1",
   "metadata": {},
   "outputs": [],
   "source": []
  },
  {
   "cell_type": "code",
   "execution_count": 110,
   "id": "6d4ebc25",
   "metadata": {},
   "outputs": [],
   "source": [
    "trans=ColumnTransformer([\n",
    "    ('t1',StandardScaler(),[0,1,2,3])\n",
    "],remainder='passthrough')"
   ]
  },
  {
   "cell_type": "code",
   "execution_count": null,
   "id": "dea725e0",
   "metadata": {},
   "outputs": [],
   "source": []
  },
  {
   "cell_type": "code",
   "execution_count": 111,
   "id": "e00972f5",
   "metadata": {},
   "outputs": [],
   "source": [
    "pipe=Pipeline([\n",
    "    ('p1',trans),\n",
    "    ('p2',LinearRegression())\n",
    "])"
   ]
  },
  {
   "cell_type": "code",
   "execution_count": 112,
   "id": "f187cbfa",
   "metadata": {},
   "outputs": [
    {
     "data": {
      "text/html": [
       "<style>#sk-container-id-2 {color: black;background-color: white;}#sk-container-id-2 pre{padding: 0;}#sk-container-id-2 div.sk-toggleable {background-color: white;}#sk-container-id-2 label.sk-toggleable__label {cursor: pointer;display: block;width: 100%;margin-bottom: 0;padding: 0.3em;box-sizing: border-box;text-align: center;}#sk-container-id-2 label.sk-toggleable__label-arrow:before {content: \"▸\";float: left;margin-right: 0.25em;color: #696969;}#sk-container-id-2 label.sk-toggleable__label-arrow:hover:before {color: black;}#sk-container-id-2 div.sk-estimator:hover label.sk-toggleable__label-arrow:before {color: black;}#sk-container-id-2 div.sk-toggleable__content {max-height: 0;max-width: 0;overflow: hidden;text-align: left;background-color: #f0f8ff;}#sk-container-id-2 div.sk-toggleable__content pre {margin: 0.2em;color: black;border-radius: 0.25em;background-color: #f0f8ff;}#sk-container-id-2 input.sk-toggleable__control:checked~div.sk-toggleable__content {max-height: 200px;max-width: 100%;overflow: auto;}#sk-container-id-2 input.sk-toggleable__control:checked~label.sk-toggleable__label-arrow:before {content: \"▾\";}#sk-container-id-2 div.sk-estimator input.sk-toggleable__control:checked~label.sk-toggleable__label {background-color: #d4ebff;}#sk-container-id-2 div.sk-label input.sk-toggleable__control:checked~label.sk-toggleable__label {background-color: #d4ebff;}#sk-container-id-2 input.sk-hidden--visually {border: 0;clip: rect(1px 1px 1px 1px);clip: rect(1px, 1px, 1px, 1px);height: 1px;margin: -1px;overflow: hidden;padding: 0;position: absolute;width: 1px;}#sk-container-id-2 div.sk-estimator {font-family: monospace;background-color: #f0f8ff;border: 1px dotted black;border-radius: 0.25em;box-sizing: border-box;margin-bottom: 0.5em;}#sk-container-id-2 div.sk-estimator:hover {background-color: #d4ebff;}#sk-container-id-2 div.sk-parallel-item::after {content: \"\";width: 100%;border-bottom: 1px solid gray;flex-grow: 1;}#sk-container-id-2 div.sk-label:hover label.sk-toggleable__label {background-color: #d4ebff;}#sk-container-id-2 div.sk-serial::before {content: \"\";position: absolute;border-left: 1px solid gray;box-sizing: border-box;top: 0;bottom: 0;left: 50%;z-index: 0;}#sk-container-id-2 div.sk-serial {display: flex;flex-direction: column;align-items: center;background-color: white;padding-right: 0.2em;padding-left: 0.2em;position: relative;}#sk-container-id-2 div.sk-item {position: relative;z-index: 1;}#sk-container-id-2 div.sk-parallel {display: flex;align-items: stretch;justify-content: center;background-color: white;position: relative;}#sk-container-id-2 div.sk-item::before, #sk-container-id-2 div.sk-parallel-item::before {content: \"\";position: absolute;border-left: 1px solid gray;box-sizing: border-box;top: 0;bottom: 0;left: 50%;z-index: -1;}#sk-container-id-2 div.sk-parallel-item {display: flex;flex-direction: column;z-index: 1;position: relative;background-color: white;}#sk-container-id-2 div.sk-parallel-item:first-child::after {align-self: flex-end;width: 50%;}#sk-container-id-2 div.sk-parallel-item:last-child::after {align-self: flex-start;width: 50%;}#sk-container-id-2 div.sk-parallel-item:only-child::after {width: 0;}#sk-container-id-2 div.sk-dashed-wrapped {border: 1px dashed gray;margin: 0 0.4em 0.5em 0.4em;box-sizing: border-box;padding-bottom: 0.4em;background-color: white;}#sk-container-id-2 div.sk-label label {font-family: monospace;font-weight: bold;display: inline-block;line-height: 1.2em;}#sk-container-id-2 div.sk-label-container {text-align: center;}#sk-container-id-2 div.sk-container {/* jupyter's `normalize.less` sets `[hidden] { display: none; }` but bootstrap.min.css set `[hidden] { display: none !important; }` so we also need the `!important` here to be able to override the default hidden behavior on the sphinx rendered scikit-learn.org. See: https://github.com/scikit-learn/scikit-learn/issues/21755 */display: inline-block !important;position: relative;}#sk-container-id-2 div.sk-text-repr-fallback {display: none;}</style><div id=\"sk-container-id-2\" class=\"sk-top-container\"><div class=\"sk-text-repr-fallback\"><pre>Pipeline(steps=[(&#x27;p1&#x27;,\n",
       "                 ColumnTransformer(remainder=&#x27;passthrough&#x27;,\n",
       "                                   transformers=[(&#x27;t1&#x27;, StandardScaler(),\n",
       "                                                  [0, 1, 2, 3])])),\n",
       "                (&#x27;p2&#x27;, LinearRegression())])</pre><b>In a Jupyter environment, please rerun this cell to show the HTML representation or trust the notebook. <br />On GitHub, the HTML representation is unable to render, please try loading this page with nbviewer.org.</b></div><div class=\"sk-container\" hidden><div class=\"sk-item sk-dashed-wrapped\"><div class=\"sk-label-container\"><div class=\"sk-label sk-toggleable\"><input class=\"sk-toggleable__control sk-hidden--visually\" id=\"sk-estimator-id-2\" type=\"checkbox\" ><label for=\"sk-estimator-id-2\" class=\"sk-toggleable__label sk-toggleable__label-arrow\">Pipeline</label><div class=\"sk-toggleable__content\"><pre>Pipeline(steps=[(&#x27;p1&#x27;,\n",
       "                 ColumnTransformer(remainder=&#x27;passthrough&#x27;,\n",
       "                                   transformers=[(&#x27;t1&#x27;, StandardScaler(),\n",
       "                                                  [0, 1, 2, 3])])),\n",
       "                (&#x27;p2&#x27;, LinearRegression())])</pre></div></div></div><div class=\"sk-serial\"><div class=\"sk-item sk-dashed-wrapped\"><div class=\"sk-label-container\"><div class=\"sk-label sk-toggleable\"><input class=\"sk-toggleable__control sk-hidden--visually\" id=\"sk-estimator-id-3\" type=\"checkbox\" ><label for=\"sk-estimator-id-3\" class=\"sk-toggleable__label sk-toggleable__label-arrow\">p1: ColumnTransformer</label><div class=\"sk-toggleable__content\"><pre>ColumnTransformer(remainder=&#x27;passthrough&#x27;,\n",
       "                  transformers=[(&#x27;t1&#x27;, StandardScaler(), [0, 1, 2, 3])])</pre></div></div></div><div class=\"sk-parallel\"><div class=\"sk-parallel-item\"><div class=\"sk-item\"><div class=\"sk-label-container\"><div class=\"sk-label sk-toggleable\"><input class=\"sk-toggleable__control sk-hidden--visually\" id=\"sk-estimator-id-4\" type=\"checkbox\" ><label for=\"sk-estimator-id-4\" class=\"sk-toggleable__label sk-toggleable__label-arrow\">t1</label><div class=\"sk-toggleable__content\"><pre>[0, 1, 2, 3]</pre></div></div></div><div class=\"sk-serial\"><div class=\"sk-item\"><div class=\"sk-estimator sk-toggleable\"><input class=\"sk-toggleable__control sk-hidden--visually\" id=\"sk-estimator-id-5\" type=\"checkbox\" ><label for=\"sk-estimator-id-5\" class=\"sk-toggleable__label sk-toggleable__label-arrow\">StandardScaler</label><div class=\"sk-toggleable__content\"><pre>StandardScaler()</pre></div></div></div></div></div></div><div class=\"sk-parallel-item\"><div class=\"sk-item\"><div class=\"sk-label-container\"><div class=\"sk-label sk-toggleable\"><input class=\"sk-toggleable__control sk-hidden--visually\" id=\"sk-estimator-id-6\" type=\"checkbox\" ><label for=\"sk-estimator-id-6\" class=\"sk-toggleable__label sk-toggleable__label-arrow\">remainder</label><div class=\"sk-toggleable__content\"><pre>[&#x27; Devarachikkanahalli&#x27;, &#x27;1st Block Jayanagar&#x27;, &#x27;1st Phase JP Nagar&#x27;, &#x27;2nd Phase Judicial Layout&#x27;, &#x27;2nd Stage Nagarbhavi&#x27;, &#x27;5th Block Hbr Layout&#x27;, &#x27;5th Phase JP Nagar&#x27;, &#x27;6th Phase JP Nagar&#x27;, &#x27;7th Phase JP Nagar&#x27;, &#x27;8th Phase JP Nagar&#x27;, &#x27;9th Phase JP Nagar&#x27;, &#x27;AECS Layout&#x27;, &#x27;Abbigere&#x27;, &#x27;Akshaya Nagar&#x27;, &#x27;Ambalipura&#x27;, &#x27;Ambedkar Nagar&#x27;, &#x27;Amruthahalli&#x27;, &#x27;Anandapura&#x27;, &#x27;Ananth Nagar&#x27;, &#x27;Anekal&#x27;, &#x27;Anjanapura&#x27;, &#x27;Ardendale&#x27;, &#x27;Arekere&#x27;, &#x27;Attibele&#x27;, &#x27;BEML Layout&#x27;, &#x27;BTM 2nd Stage&#x27;, &#x27;BTM Layout&#x27;, &#x27;Babusapalaya&#x27;, &#x27;Badavala Nagar&#x27;, &#x27;Balagere&#x27;, &#x27;Banashankari&#x27;, &#x27;Banashankari Stage II&#x27;, &#x27;Banashankari Stage III&#x27;, &#x27;Banashankari Stage V&#x27;, &#x27;Banashankari Stage VI&#x27;, &#x27;Banaswadi&#x27;, &#x27;Banjara Layout&#x27;, &#x27;Bannerghatta&#x27;, &#x27;Bannerghatta Road&#x27;, &#x27;Basavangudi&#x27;, &#x27;Basaveshwara Nagar&#x27;, &#x27;Battarahalli&#x27;, &#x27;Begur&#x27;, &#x27;Begur Road&#x27;, &#x27;Bellandur&#x27;, &#x27;Benson Town&#x27;, &#x27;Bharathi Nagar&#x27;, &#x27;Bhoganhalli&#x27;, &#x27;Billekahalli&#x27;, &#x27;Binny Pete&#x27;, &#x27;Bisuvanahalli&#x27;, &#x27;Bommanahalli&#x27;, &#x27;Bommasandra&#x27;, &#x27;Bommasandra Industrial Area&#x27;, &#x27;Bommenahalli&#x27;, &#x27;Brookefield&#x27;, &#x27;Budigere&#x27;, &#x27;CV Raman Nagar&#x27;, &#x27;Chamrajpet&#x27;, &#x27;Chandapura&#x27;, &#x27;Channasandra&#x27;, &#x27;Chikka Tirupathi&#x27;, &#x27;Chikkabanavar&#x27;, &#x27;Chikkalasandra&#x27;, &#x27;Choodasandra&#x27;, &#x27;Cooke Town&#x27;, &#x27;Cox Town&#x27;, &#x27;Dasanapura&#x27;, &#x27;Dasarahalli&#x27;, &#x27;Devanahalli&#x27;, &#x27;Dodda Nekkundi&#x27;, &#x27;Doddaballapur&#x27;, &#x27;Doddakallasandra&#x27;, &#x27;Doddathoguru&#x27;, &#x27;Domlur&#x27;, &#x27;Dommasandra&#x27;, &#x27;EPIP Zone&#x27;, &#x27;Electronic City&#x27;, &#x27;Electronic City Phase II&#x27;, &#x27;Electronics City Phase 1&#x27;, &#x27;Frazer Town&#x27;, &#x27;GM Palaya&#x27;, &#x27;Garudachar Palya&#x27;, &#x27;Giri Nagar&#x27;, &#x27;Gollarapalya Hosahalli&#x27;, &#x27;Gottigere&#x27;, &#x27;Green Glen Layout&#x27;, &#x27;Gubbalala&#x27;, &#x27;Gunjur&#x27;, &#x27;HAL 2nd Stage&#x27;, &#x27;HBR Layout&#x27;, &#x27;HRBR Layout&#x27;, &#x27;HSR Layout&#x27;, &#x27;Haralur Road&#x27;, &#x27;Harlur&#x27;, &#x27;Hebbal&#x27;, &#x27;Hebbal Kempapura&#x27;, &#x27;Hegde Nagar&#x27;, &#x27;Hennur&#x27;, &#x27;Hennur Road&#x27;, &#x27;Hoodi&#x27;, &#x27;Horamavu Agara&#x27;, &#x27;Horamavu Banaswadi&#x27;, &#x27;Hormavu&#x27;, &#x27;Hosa Road&#x27;, &#x27;Hosakerehalli&#x27;, &#x27;Hoskote&#x27;, &#x27;Hosur Road&#x27;, &#x27;Hulimavu&#x27;, &#x27;ISRO Layout&#x27;, &#x27;ITPL&#x27;, &#x27;Iblur Village&#x27;, &#x27;Indira Nagar&#x27;, &#x27;JP Nagar&#x27;, &#x27;Jakkur&#x27;, &#x27;Jalahalli&#x27;, &#x27;Jalahalli East&#x27;, &#x27;Jigani&#x27;, &#x27;Judicial Layout&#x27;, &#x27;KR Puram&#x27;, &#x27;Kadubeesanahalli&#x27;, &#x27;Kadugodi&#x27;, &#x27;Kaggadasapura&#x27;, &#x27;Kaggalipura&#x27;, &#x27;Kaikondrahalli&#x27;, &#x27;Kalena Agrahara&#x27;, &#x27;Kalyan nagar&#x27;, &#x27;Kambipura&#x27;, &#x27;Kammanahalli&#x27;, &#x27;Kammasandra&#x27;, &#x27;Kanakapura&#x27;, &#x27;Kanakpura Road&#x27;, &#x27;Kannamangala&#x27;, &#x27;Karuna Nagar&#x27;, &#x27;Kasavanhalli&#x27;, &#x27;Kasturi Nagar&#x27;, &#x27;Kathriguppe&#x27;, &#x27;Kaval Byrasandra&#x27;, &#x27;Kenchenahalli&#x27;, &#x27;Kengeri&#x27;, &#x27;Kengeri Satellite Town&#x27;, &#x27;Kereguddadahalli&#x27;, &#x27;Kodichikkanahalli&#x27;, &#x27;Kodigehaali&#x27;, &#x27;Kodigehalli&#x27;, &#x27;Kodihalli&#x27;, &#x27;Kogilu&#x27;, &#x27;Konanakunte&#x27;, &#x27;Koramangala&#x27;, &#x27;Kothannur&#x27;, &#x27;Kothanur&#x27;, &#x27;Kudlu&#x27;, &#x27;Kudlu Gate&#x27;, &#x27;Kumaraswami Layout&#x27;, &#x27;Kundalahalli&#x27;, &#x27;LB Shastri Nagar&#x27;, &#x27;Laggere&#x27;, &#x27;Lakshminarayana Pura&#x27;, &#x27;Lingadheeranahalli&#x27;, &#x27;Magadi Road&#x27;, &#x27;Mahadevpura&#x27;, &#x27;Mahalakshmi Layout&#x27;, &#x27;Mallasandra&#x27;, &#x27;Malleshpalya&#x27;, &#x27;Malleshwaram&#x27;, &#x27;Marathahalli&#x27;, &#x27;Margondanahalli&#x27;, &#x27;Marsur&#x27;, &#x27;Mico Layout&#x27;, &#x27;Munnekollal&#x27;, &#x27;Murugeshpalya&#x27;, &#x27;Mysore Road&#x27;, &#x27;NGR Layout&#x27;, &#x27;NRI Layout&#x27;, &#x27;Nagarbhavi&#x27;, &#x27;Nagasandra&#x27;, &#x27;Nagavara&#x27;, &#x27;Nagavarapalya&#x27;, &#x27;Narayanapura&#x27;, &#x27;Neeladri Nagar&#x27;, &#x27;Nehru Nagar&#x27;, &#x27;OMBR Layout&#x27;, &#x27;Old Airport Road&#x27;, &#x27;Old Madras Road&#x27;, &#x27;Padmanabhanagar&#x27;, &#x27;Pai Layout&#x27;, &#x27;Panathur&#x27;, &#x27;Parappana Agrahara&#x27;, &#x27;Pattandur Agrahara&#x27;, &#x27;Poorna Pragna Layout&#x27;, &#x27;Prithvi Layout&#x27;, &#x27;R.T. Nagar&#x27;, &#x27;Rachenahalli&#x27;, &#x27;Raja Rajeshwari Nagar&#x27;, &#x27;Rajaji Nagar&#x27;, &#x27;Rajiv Nagar&#x27;, &#x27;Ramagondanahalli&#x27;, &#x27;Ramamurthy Nagar&#x27;, &#x27;Rayasandra&#x27;, &#x27;Sahakara Nagar&#x27;, &#x27;Sanjay nagar&#x27;, &#x27;Sarakki Nagar&#x27;, &#x27;Sarjapur&#x27;, &#x27;Sarjapur  Road&#x27;, &#x27;Sarjapura - Attibele Road&#x27;, &#x27;Sector 2 HSR Layout&#x27;, &#x27;Sector 7 HSR Layout&#x27;, &#x27;Seegehalli&#x27;, &#x27;Shampura&#x27;, &#x27;Shivaji Nagar&#x27;, &#x27;Singasandra&#x27;, &#x27;Somasundara Palya&#x27;, &#x27;Sompura&#x27;, &#x27;Sonnenahalli&#x27;, &#x27;Subramanyapura&#x27;, &#x27;Sultan Palaya&#x27;, &#x27;TC Palaya&#x27;, &#x27;Talaghattapura&#x27;, &#x27;Thanisandra&#x27;, &#x27;Thigalarapalya&#x27;, &#x27;Thubarahalli&#x27;, &#x27;Thyagaraja Nagar&#x27;, &#x27;Tindlu&#x27;, &#x27;Tumkur Road&#x27;, &#x27;Ulsoor&#x27;, &#x27;Uttarahalli&#x27;, &#x27;Varthur&#x27;, &#x27;Varthur Road&#x27;, &#x27;Vasanthapura&#x27;, &#x27;Vidyaranyapura&#x27;, &#x27;Vijayanagar&#x27;, &#x27;Vishveshwarya Layout&#x27;, &#x27;Vishwapriya Layout&#x27;, &#x27;Vittasandra&#x27;, &#x27;Whitefield&#x27;, &#x27;Yelachenahalli&#x27;, &#x27;Yelahanka&#x27;, &#x27;Yelahanka New Town&#x27;, &#x27;Yelenahalli&#x27;, &#x27;Yeshwanthpur&#x27;]</pre></div></div></div><div class=\"sk-serial\"><div class=\"sk-item\"><div class=\"sk-estimator sk-toggleable\"><input class=\"sk-toggleable__control sk-hidden--visually\" id=\"sk-estimator-id-7\" type=\"checkbox\" ><label for=\"sk-estimator-id-7\" class=\"sk-toggleable__label sk-toggleable__label-arrow\">passthrough</label><div class=\"sk-toggleable__content\"><pre>passthrough</pre></div></div></div></div></div></div></div></div><div class=\"sk-item\"><div class=\"sk-estimator sk-toggleable\"><input class=\"sk-toggleable__control sk-hidden--visually\" id=\"sk-estimator-id-8\" type=\"checkbox\" ><label for=\"sk-estimator-id-8\" class=\"sk-toggleable__label sk-toggleable__label-arrow\">LinearRegression</label><div class=\"sk-toggleable__content\"><pre>LinearRegression()</pre></div></div></div></div></div></div></div>"
      ],
      "text/plain": [
       "Pipeline(steps=[('p1',\n",
       "                 ColumnTransformer(remainder='passthrough',\n",
       "                                   transformers=[('t1', StandardScaler(),\n",
       "                                                  [0, 1, 2, 3])])),\n",
       "                ('p2', LinearRegression())])"
      ]
     },
     "execution_count": 112,
     "metadata": {},
     "output_type": "execute_result"
    }
   ],
   "source": [
    "pipe.fit(x_train,y_train)"
   ]
  },
  {
   "cell_type": "code",
   "execution_count": 113,
   "id": "926319f2",
   "metadata": {},
   "outputs": [
    {
     "data": {
      "text/plain": [
       "0.7388623514025343"
      ]
     },
     "execution_count": 113,
     "metadata": {},
     "output_type": "execute_result"
    }
   ],
   "source": [
    "r2_score(y_train,pipe.predict(x_train))"
   ]
  },
  {
   "cell_type": "code",
   "execution_count": 116,
   "id": "da5266d0",
   "metadata": {},
   "outputs": [
    {
     "data": {
      "text/plain": [
       "array([ 7.14944208e-01,  7.21263392e-01,  7.10024464e-01,  7.30898322e-01,\n",
       "       -3.82799698e+18])"
      ]
     },
     "execution_count": 116,
     "metadata": {},
     "output_type": "execute_result"
    }
   ],
   "source": [
    "cross_val_score(pipe,x_train,y_train)"
   ]
  },
  {
   "cell_type": "code",
   "execution_count": 115,
   "id": "f45db79a",
   "metadata": {},
   "outputs": [
    {
     "data": {
      "text/plain": [
       "0.7252253530883521"
      ]
     },
     "execution_count": 115,
     "metadata": {},
     "output_type": "execute_result"
    }
   ],
   "source": [
    "r2_score(y_test,pipe.predict(x_test))"
   ]
  },
  {
   "cell_type": "code",
   "execution_count": null,
   "id": "2a6d7fbd",
   "metadata": {},
   "outputs": [],
   "source": []
  }
 ],
 "metadata": {
  "kernelspec": {
   "display_name": "Python 3 (ipykernel)",
   "language": "python",
   "name": "python3"
  },
  "language_info": {
   "codemirror_mode": {
    "name": "ipython",
    "version": 3
   },
   "file_extension": ".py",
   "mimetype": "text/x-python",
   "name": "python",
   "nbconvert_exporter": "python",
   "pygments_lexer": "ipython3",
   "version": "3.9.13"
  }
 },
 "nbformat": 4,
 "nbformat_minor": 5
}
